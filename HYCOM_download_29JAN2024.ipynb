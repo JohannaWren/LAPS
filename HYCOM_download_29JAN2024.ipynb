{
 "cells": [
  {
   "cell_type": "markdown",
   "id": "5c518944",
   "metadata": {},
   "source": [
    "# Download HYCOM files for the LAPS project"
   ]
  },
  {
   "cell_type": "markdown",
   "id": "b0d5a5f3",
   "metadata": {},
   "source": [
    "Author: Johanna Wren\n",
    "\n",
    "email: johanna.wren@noaa.gov\n",
    "\n",
    "Date: January 29, 2024"
   ]
  },
  {
   "cell_type": "markdown",
   "id": "38e70c68",
   "metadata": {},
   "source": [
    "## Description\n",
    "\n",
    "This code accesses HYCOM files through opendap, subsets the area, and saves the u and v velocity to a file as 3-hourly files"
   ]
  },
  {
   "cell_type": "markdown",
   "id": "b9d14e7c",
   "metadata": {},
   "source": [
    "## Import libraries"
   ]
  },
  {
   "cell_type": "code",
   "execution_count": null,
   "id": "a88b4fd2",
   "metadata": {},
   "outputs": [],
   "source": [
    "import pandas as pd\n",
    "import xarray as xr"
   ]
  },
  {
   "cell_type": "markdown",
   "id": "91260802",
   "metadata": {},
   "source": [
    "## Read in the HYCOM dataset\n",
    "Subset the 10 and 20 meter depth layers and one time slice. We are looping through all the times in the opendap file and saving for each timestep. "
   ]
  },
  {
   "cell_type": "code",
   "execution_count": null,
   "id": "f26c137f",
   "metadata": {},
   "outputs": [],
   "source": [
    "min_lat=-5\n",
    "max_lat=50\n",
    "min_lon=120\n",
    "max_lon=230\n",
    "\n",
    "#timeVar = hy360.time.values\n",
    "\n",
    "i=1"
   ]
  },
  {
   "cell_type": "code",
   "execution_count": null,
   "id": "3af50743",
   "metadata": {},
   "outputs": [],
   "source": [
    "hycom = xr.open_dataset(\"https://apdrc.soest.hawaii.edu/erddap/griddap/hawaii_soest_e9ba_92b1_0bcd\")\n",
    "\n",
    "# Change longitude from -180/180 to 0-360, then sort the data by lon to get a continuous axis\n",
    "hy360 = hycom.assign_coords({\"longitude\": (hycom.longitude % 360)}).sortby(hycom.longitude)\n",
    "hy = hy360.sel(latitude=slice(min_lat,max_lat), longitude=slice(min_lon,max_lon), LEV=[10,20])[['water_u', 'water_v']]"
   ]
  },
  {
   "cell_type": "code",
   "execution_count": null,
   "id": "160bf626",
   "metadata": {},
   "outputs": [],
   "source": [
    "hy2 = hy.sel(time=timeVar[i])\n",
    "hy2"
   ]
  },
  {
   "cell_type": "code",
   "execution_count": null,
   "id": "00589dd5",
   "metadata": {},
   "outputs": [],
   "source": [
    "hy.sel(LEV=10).water_u.plot()"
   ]
  },
  {
   "cell_type": "code",
   "execution_count": null,
   "id": "573939b4",
   "metadata": {},
   "outputs": [],
   "source": [
    "# Set your spatial extent\n",
    "min_lat=-5\n",
    "max_lat=50\n",
    "min_lon=120\n",
    "max_lon=230\n",
    "\n",
    "# Read in the data\n",
    "hycom = xr.open_dataset(\"https://apdrc.soest.hawaii.edu/erddap/griddap/hawaii_soest_e9ba_92b1_0bcd\")\n",
    "\n",
    "# Change longitude from -180/180 to 0-360, then sort the data by lon to get a continuous axis\n",
    "hy360 = hycom.assign_coords({\"longitude\": (hycom.longitude % 360)}).sortby(hycom.longitude)\n",
    "hy = hy360.sel(latitude=slice(min_lat,max_lat), longitude=slice(min_lon,max_lon), LEV=[10,20])[['water_u', 'water_v']]\n",
    "\n",
    "# Get the time variable values\n",
    "timeVar = hy360.time.values\n",
    "\n",
    "for i in range(0, len(timeVar)):\n",
    "    j=f'{i:06}'\n",
    "    #print(j)\n",
    "\n",
    "    # Select the 10 and 20 meter deph layer and only variables water_u and water_v\n",
    "    hy = hy.sel(time=timeVar[i])\n",
    "    \n",
    "    # Save to file\n",
    "    hy.to_netcdf(path=f'/Users/jwren/Desktop/LAPS/HYCOM_py_test_{j}.nc')\n",
    "\n",
    "    "
   ]
  }
 ],
 "metadata": {
  "kernelspec": {
   "display_name": "Python 3 (ipykernel)",
   "language": "python",
   "name": "python3"
  },
  "language_info": {
   "codemirror_mode": {
    "name": "ipython",
    "version": 3
   },
   "file_extension": ".py",
   "mimetype": "text/x-python",
   "name": "python",
   "nbconvert_exporter": "python",
   "pygments_lexer": "ipython3",
   "version": "3.9.13"
  }
 },
 "nbformat": 4,
 "nbformat_minor": 5
}
