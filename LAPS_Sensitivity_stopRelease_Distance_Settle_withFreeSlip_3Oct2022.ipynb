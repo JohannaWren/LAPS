{
 "cells": [
  {
   "cell_type": "markdown",
   "metadata": {
    "id": "0iQDOjjXCHwp"
   },
   "source": [
    "# Base script for Ocean Parcels to use for sensitivity analysis. "
   ]
  },
  {
   "cell_type": "markdown",
   "metadata": {
    "id": "53WXM8fKCHwt"
   },
   "source": [
    "Author: Johanna Wren\n",
    "\n",
    "email: johanna.wren@noaa.gov\n",
    "\n",
    "Date: September 21, 2021"
   ]
  },
  {
   "cell_type": "markdown",
   "metadata": {
    "id": "a-NDTsIdCHwu"
   },
   "source": [
    "Basic script for use during sensitivity analysis for LAPS modeling. This script advects particles in pre-defined locations at a pre-defined depth using HYCOM currents stored on file. The trajectories are saved as a NetCDF file. This script contains a particle age (PLD) but no land avoidance and uses 2D passive dispersal with diffusivity. \n",
    "\n",
    "The script also calculates cumulative distance traveled. "
   ]
  },
  {
   "cell_type": "markdown",
   "metadata": {
    "id": "GzTviHUgCHwu"
   },
   "source": [
    "## Load libraries\n",
    "Loading all the libraries we need for basic 2D fourth order Runge-Kutta dispersal with diffusion.  "
   ]
  },
  {
   "cell_type": "code",
   "execution_count": 1,
   "metadata": {
    "id": "aN1wGXzhCHwv"
   },
   "outputs": [
    {
     "name": "stderr",
     "output_type": "stream",
     "text": [
      "fatal: not a git repository (or any of the parent directories): .git\n"
     ]
    }
   ],
   "source": [
    "# Load libraries etc.\n",
    "from parcels import FieldSet, ParticleSet, JITParticle, ErrorCode, plotTrajectoriesFile, Variable, ParcelsRandom, Field, DiffusionUniformKh#, AdvectionRK4\n",
    "import numpy as np\n",
    "import pandas as pd\n",
    "import xarray as xr\n",
    "from datetime import timedelta, datetime\n",
    "import math\n",
    "#import haversine as hs\n"
   ]
  },
  {
   "cell_type": "markdown",
   "metadata": {},
   "source": [
    "Define custom AdvectionRK4 kernel so we can get the previous lon and lat for distance calculations. Nothing has changed from the original other than adding the prev_lat and prev_lon bits"
   ]
  },
  {
   "cell_type": "markdown",
   "metadata": {
    "id": "ZsQbu2ENCHw1"
   },
   "source": [
    "## Define custom kenels\n",
    "This is where we define other useful custom kenels."
   ]
  },
  {
   "cell_type": "markdown",
   "metadata": {},
   "source": [
    "First we have to slightly change the `AdvectionRK4` function. This is a build in function in OceanParcels but we need to save the previous particle location so that we can calculate distance traveled for a particle. We do that here by adding `particle.prev_lon` and `particle.prev_lat` to the source code. Make sure you don't load the `AdvectionRK4` up top in the script if you run this custom version. "
   ]
  },
  {
   "cell_type": "code",
   "execution_count": 2,
   "metadata": {},
   "outputs": [],
   "source": [
    "def AdvectionRK4(particle, fieldset, time):\n",
    "    \"\"\"Advection of particles using fourth-order Runge-Kutta integration.\n",
    "    Function needs to be converted to Kernel object before execution\"\"\"\n",
    "    # Save previous location for distance calculations\n",
    "    particle.prev_lon = particle.lon\n",
    "    particle.prev_lat = particle.lat\n",
    "    \n",
    "    # Advect particle\n",
    "    (u1, v1) = fieldset.UV[particle]\n",
    "    lon1, lat1 = (particle.lon + u1*.5*particle.dt, particle.lat + v1*.5*particle.dt)\n",
    "    (u2, v2) = fieldset.UV[time + .5 * particle.dt, particle.depth, lat1, lon1, particle]\n",
    "    lon2, lat2 = (particle.lon + u2*.5*particle.dt, particle.lat + v2*.5*particle.dt)\n",
    "    (u3, v3) = fieldset.UV[time + .5 * particle.dt, particle.depth, lat2, lon2, particle]\n",
    "    lon3, lat3 = (particle.lon + u3*particle.dt, particle.lat + v3*particle.dt)\n",
    "    (u4, v4) = fieldset.UV[time + particle.dt, particle.depth, lat3, lon3, particle]\n",
    "    particle.lon += (u1 + 2*u2 + 2*u3 + u4) / 6. * particle.dt\n",
    "    particle.lat += (v1 + 2*v2 + 2*v3 + v4) / 6. * particle.dt"
   ]
  },
  {
   "cell_type": "markdown",
   "metadata": {
    "id": "dF6TFMnBCHw1"
   },
   "source": [
    "### DELETE PARTICLES\n",
    "`DeleteParticles` allows for particles to be deleted when they exit the dispersal domain. This is applied to the borders of the domain but NOT to land. \n",
    "\n",
    "*NOTE: When currents are loaded into the fieldset the missing values over land get converted to zeros so particles that hit land just stop there and bunch up. This shouldn't be a problem for this application, but if it is, we can add land avoidance kernels.*  "
   ]
  },
  {
   "cell_type": "code",
   "execution_count": 3,
   "metadata": {
    "id": "vEv5gfn-CHw2"
   },
   "outputs": [],
   "source": [
    "def DeleteParticle(particle, fieldset, time):\n",
    "    particle.delete()"
   ]
  },
  {
   "cell_type": "markdown",
   "metadata": {
    "id": "IeNQIJv5CHw2"
   },
   "source": [
    "### AGEING\n",
    "The `Ageing` kernel removes particles after a specific time period (PLD) by calling the `DeleteParticles` kernel. This allows you to run simulation for long periods of time while removing particles after a set number of days. We read in the PLD as a constant in the fieldset and this kernel grabs the PLD value from there. "
   ]
  },
  {
   "cell_type": "code",
   "execution_count": 4,
   "metadata": {
    "id": "O_WJkWGaCHw2"
   },
   "outputs": [],
   "source": [
    "def Ageing(particle, fieldset, time):\n",
    "    particle.age += particle.dt\n",
    "    if particle.age >= fieldset.pld:\n",
    "        particle.delete()"
   ]
  },
  {
   "cell_type": "markdown",
   "metadata": {},
   "source": [
    "### DISTANCE TRAVELED\n",
    "Here we calculate distance traveled. Since Parcels won't allow anything but basic math functions in a kernel we have to 'manually' calculate the distance and define $\\pi$. I used the Haversine formula for this calculation, and the output is in **METERS**. \n",
    "\n",
    "If you don't want to calculate distance here but do it all at the end, simply comment out the Distance kernel from below where you add the kernels together right before executing the run. "
   ]
  },
  {
   "cell_type": "code",
   "execution_count": 5,
   "metadata": {},
   "outputs": [],
   "source": [
    "def Distance(particle, fieldset, time):\n",
    "    \"\"\"\n",
    "    Calculate the great circle distance in kilometers between two points \n",
    "    on the earth (specified in decimal degrees)\n",
    "    \"\"\"\n",
    "    pi=3.14159265359\n",
    "    # convert decimal degrees to radians \n",
    "    lon11 = particle.prev_lon*(pi/180)\n",
    "    lat11 = particle.prev_lat*(pi/180)\n",
    "    lon22 = particle.lon*(pi/180)\n",
    "    lat22 = particle.lat*(pi/180)\n",
    "\n",
    "    # haversine formula \n",
    "    dlon = lon22 - lon11 \n",
    "    dlat = lat22 - lat11 \n",
    "    a = sin(dlat/2)**2 + cos(lat11) * cos(lat22) * sin(dlon/2)**2\n",
    "    c = 2 * asin(sqrt(a)) \n",
    "    r = 6378137 #6371 # Radius of earth in meters. Use 3956 for miles. Determines return value units.\n",
    "    particle.distance += c * r"
   ]
  },
  {
   "cell_type": "markdown",
   "metadata": {},
   "source": [
    "### Settled particle\n",
    "This kernel prints in the output file whether a particle is within settling range of a habitat pixel. For these purpouses, we defined settled as within 0.05 degrees (~5km) of coral reef habitat in the Main and NW Hawaiian Islands.\n",
    "\n",
    "We load in a `fieldset` layer called `settle` that has a 0-684 number of within 0.05 degrees of coral reef habitat on a 0.01 degree (~1 km) scale. The following kernel just prints the value under the location for that layer to the particle and output file. The result will be a number between 0 and 684, with 0 being not settled, and the number bing the habitat pixel is settled to. The 1-684 numbers correspond to the habiat pixels in `HIreefsNew.csv`."
   ]
  },
  {
   "cell_type": "code",
   "execution_count": 6,
   "metadata": {},
   "outputs": [],
   "source": [
    "def Settle(particle, fieldset, time):\n",
    "    particle.settle = fieldset.settle[time, particle.depth, particle.lat, particle.lon]"
   ]
  },
  {
   "cell_type": "markdown",
   "metadata": {
    "id": "0xQujL0xCHw3"
   },
   "source": [
    "## Create a fieldset\n",
    "We are creating a fieldset from HYCOM current files downloaded and stored on a drive. The fieldset is what OceanParcels uses to store all the information it needs for the flowfield that it moves particles through.\n",
    "\n",
    "The HYCOM data was downloaded using the `HYCOM_download_sensitivity.jnl` script and grabs u and v currents for a region 120E-120W and 0-50N for the top 50 meters (15 layers of the model). The files are saved as HYCOM_LAPS_Sensitivity_????.nc where the number indexing is days since the start of the dataseries on Jan 1, 1994. The HYCOM data can be found on the [APDRC website](http://apdrc.soest.hawaii.edu/erddap/griddap/hawaii_soest_6a0a_5127_d118). \n",
    "\n",
    "Because these files were saved using Ferret the lon and lat variable names are a bit different but it shouldn't change anything practically. You can always check the variable names by reading them R using the `ncdf4` package or through `ncdump -h HYCOM_LAPS_Sensitivity_7117.nc` command in your terminal (on a unix/linux machine). \n",
    "\n",
    "When you generate the fieldset, don't forget to <span style=\"color:red\">**set your dept variable here to whichever depth strata you want to use.**</span>\n",
    "\n",
    "We are also adding a settlement file to the fieldset. This file has the location number of the nearest habitat within 5km (from HIreefsNew.csv) on a 1x1 km grid. The script the queeries that field and will write whatever number is under the particle location. If it's a zero, that means the particle is >5km away from the nearest habitat, and if it's a number, that means that number is the habitat pixel it is settled at. The `settle` kernel above is what queeries this field. \n"
   ]
  },
  {
   "cell_type": "code",
   "execution_count": 7,
   "metadata": {},
   "outputs": [
    {
     "name": "stderr",
     "output_type": "stream",
     "text": [
      "WARNING: Flipping lat data from North-South to South-North. Note that this may lead to wrong sign for meridional velocity, so tread very carefully\n"
     ]
    }
   ],
   "source": [
    "fname = \"2013/HYCOM_LAPS_Sensitivity_*.nc\"\n",
    "wname = 'LAPS_settlement_habitat_IslIndex.nc'\n",
    "filenames = {'U': fname, 'V': fname, 'settle': wname}\n",
    "variables = {'U': 'WATER_U', 'V': 'WATER_V', 'settle': 'IslandIndex'}\n",
    "dimensions = {}\n",
    "dimensions['U'] = {'lat': 'LATITUDE1501_2251', 'lon': 'LONGITUDE3751_5251', 'depth': 'LEV1_15', 'time': 'TIME'}\n",
    "dimensions['V'] = {'lat': 'LATITUDE1501_2251', 'lon': 'LONGITUDE3751_5251', 'time': 'TIME'}\n",
    "dimensions['settle'] = {'lat': 'latitude', 'lon': 'longitude'}\n",
    "\n",
    "#indices = {'lon': range(0, 1501), 'lat': range(0, 751)}\n",
    "\n",
    "fieldset = FieldSet.from_netcdf(filenames, variables, dimensions, #indices=indices, \n",
    "                                interp_method={'U': 'freeslip', 'V': 'freeslip', 'settle': 'nearest'})\n"
   ]
  },
  {
   "cell_type": "code",
   "execution_count": null,
   "metadata": {},
   "outputs": [],
   "source": []
  },
  {
   "cell_type": "markdown",
   "metadata": {
    "id": "sPt43DwSCHw3"
   },
   "source": [
    "Run some diagnostics on the `fieldset` to make sure it is read in properly. If your dataset is straddeling the 180 longitude, Parcels might plot the map in +-180 so the fieldset isn't continuous geographically, but that is just the plotting function, it still works fine and advects across the 180 meridian. \n",
    "\n",
    "**PLOTTING THE SETTLE LAYER BELOW TAKES A BIT OF TIME SINCE IT'S ON A 1X1KM GRID. FEEL FREE TO SKIP, I JUST WANTED TO MAKE SURE IT WAS LOADED IN PROPERLY**"
   ]
  },
  {
   "cell_type": "code",
   "execution_count": 9,
   "metadata": {
    "id": "hxPMnZKrCHw3",
    "outputId": "5fe3f126-957f-419e-fbbe-36b6ceffe054"
   },
   "outputs": [
    {
     "data": {
      "image/png": "[encoded data removed]",
      "text/plain": [
       "<Figure size 432x288 with 2 Axes>"
      ]
     },
     "metadata": {
      "needs_background": "light"
     },
     "output_type": "display_data"
    },
    {
     "data": {
      "image/png": "[encoded data removed]",
      "text/plain": [
       "<Figure size 432x288 with 2 Axes>"
      ]
     },
     "metadata": {
      "needs_background": "light"
     },
     "output_type": "display_data"
    }
   ],
   "source": [
    "# Plot the U field\n",
    "fieldset.V.show()\n",
    "fieldset.settle.show()"
   ]
  },
  {
   "cell_type": "markdown",
   "metadata": {
    "id": "bonu27A5CHw4"
   },
   "source": [
    "## Add diffusivity\n",
    "In order for diffusivity to be incorporated we need to add zonal and meridional Kh fields. This code uses spatially homogenous diffusivity, but if you want spatially varying diffusivity use the `AdvectionDiffusionEM` or `AdvectionDiffusionM1` kernel instead.\n",
    "\n",
    "Skip the next cell if you want to run without diffusivity. "
   ]
  },
  {
   "cell_type": "code",
   "execution_count": null,
   "metadata": {
    "id": "HHI5QuM5CHw5"
   },
   "outputs": [],
   "source": [
    "kh = 10   # This is the eddy diffusivity in m2/s\n",
    "\n",
    "# Add even diffusivity to the fieldset\n",
    "fieldset.add_constant_field('Kh_zonal', kh, mesh='spherical')\n",
    "fieldset.add_constant_field('Kh_meridional', kh, mesh='spherical')            "
   ]
  },
  {
   "cell_type": "markdown",
   "metadata": {
    "id": "3TNrGHU6WBtX"
   },
   "source": [
    "## Add PLD\n",
    "Here we add the PLD as a constant to te fieldset. If you want to change up the PLD all you have to do is change the number here."
   ]
  },
  {
   "cell_type": "code",
   "execution_count": null,
   "metadata": {
    "id": "Ji6pmc-uWXfm"
   },
   "outputs": [],
   "source": [
    "# Add PLD to fieldset\n",
    "pld = 180   # in days\n",
    "fieldset.add_constant('pld', (pld*86400))"
   ]
  },
  {
   "cell_type": "markdown",
   "metadata": {
    "id": "nb4SlJDCCHw5"
   },
   "source": [
    "## Define your particle type\n",
    "We are using a JIT particle but we are adding the age variable along with a release site variable. These variables will print to the output file, but it's easy to change to not show in the ouput file. \n",
    "\n",
    "The release site is just a number for the island the particle was released from and makes it much easier when we construct connectivity matrices in post processing. The island values are listed in a separate column in your LAPS_release_sites.csv file. \n",
    "\n",
    "Since we are calculating distance traveled we need to add a few more vaiables to our particle. We need the distance calculation from the `Distance` kernel above, as well as the previous lon and lat (that we added in the `AdvectionRK4` above). We are not writing the previous lon and lat in the output file so but we do want the distance written to the file. "
   ]
  },
  {
   "cell_type": "code",
   "execution_count": null,
   "metadata": {
    "id": "ZCms9ZDOCHw5"
   },
   "outputs": [],
   "source": [
    "class AgeingParticle(JITParticle):\n",
    "    age = Variable('age', dtype=np.float32, initial=0.)\n",
    "    releaseSite = Variable('releaseSite', dtype=np.int32)\n",
    "    distance = Variable('distance', dtype=np.float32, initial=0.)\n",
    "    prev_lat = Variable('prev_lat', initial=0., to_write=False)  \n",
    "    prev_lon = Variable('prev_lon', initial=0., to_write=False)\n",
    "    settle = Variable('settle', dtype=np.float32, initial=0.)"
   ]
  },
  {
   "cell_type": "markdown",
   "metadata": {
    "id": "syuTR0HZCHw5"
   },
   "source": [
    "## Set particle release locations\n",
    "Next, we instantiate a `ParticeSet` composed of `JITParticle`. \n",
    "\n",
    "`ParticleSet` holds release locations, the number of particles released, the release depth, and how often a particel should be released (daily, every 6h, etc.)\n",
    "\n",
    "Particles are released from locations specified in a file. We use this if we want to release at for example all reef locations in the islands, or any other list of locations. If we are releaseing multiple particles for each site we need to repeat them with the dates and depths and that is what we are doing with the `np.repeat` part. \n",
    "\n",
    "You can add or omit `pdepth`, `time` and `repeatdt` for a one time release at the default `fieldset` depth (in a multi depth file default is top layer) and time. "
   ]
  },
  {
   "cell_type": "code",
   "execution_count": null,
   "metadata": {
    "id": "XKpk8JOVCHw6"
   },
   "outputs": [],
   "source": [
    "# Set input file\n",
    "infile = pd.read_csv('LAPS_release_sites_noHI.csv')\n",
    "\n",
    "# Set number of particles you want to release\n",
    "npart = 250\n",
    "\n",
    "# Set the release depth\n",
    "depth = 20\n",
    "\n",
    "# Make vectors that repeat the release site and dept npart number of times\n",
    "habilon = np.repeat(infile.Lon, npart)\n",
    "habilat = np.repeat(infile.Lat, npart)\n",
    "habisite = np.repeat(infile.Site, npart)\n",
    "habidepth = np.repeat(depth, len(habilon))\n",
    "\n",
    "# Time interval between particle release (in seconds)\n",
    "release_int = 86400*\n",
    "\n",
    "# Start date for release (if you want it different from the first day of the currents in the fieldset)\n",
    "start_date = datetime(2012, 7, 1)\n",
    "\n",
    "# Define the pset\n",
    "pset = ParticleSet.from_list(fieldset=fieldset, \n",
    "                             pclass=AgeingParticle, \n",
    "                             lon=habilon,\n",
    "                             lat=habilat,\n",
    "                             depth=habidepth,\n",
    "                             releaseSite=habisite,\n",
    "                             repeatdt=release_int)"
   ]
  },
  {
   "cell_type": "markdown",
   "metadata": {
    "id": "cf5YhFSVCHw6"
   },
   "source": [
    "### Visualize particle start locations\n",
    "We can now see where the particles are seesed by using `pset.show` \n",
    "\n",
    "**If you are releasing a lot of particles the pset will be very long so you might want to skip printing it.**"
   ]
  },
  {
   "cell_type": "code",
   "execution_count": null,
   "metadata": {
    "id": "vj4ZH-2xCHw6",
    "outputId": "2df0a011-3967-4543-98be-faa45b1816ae"
   },
   "outputs": [],
   "source": [
    "#print(pset)\n",
    "pset.show()"
   ]
  },
  {
   "cell_type": "markdown",
   "metadata": {
    "id": "aKGmuDW6CHw7"
   },
   "source": [
    "## Advect particles"
   ]
  },
  {
   "cell_type": "markdown",
   "metadata": {
    "id": "b8GisMkgCHw7"
   },
   "source": [
    "To invoke the custom kernels we wrote earlier we need to combine them into a format Parcels can use. Simply string all the kernels together that you want to use.\n"
   ]
  },
  {
   "cell_type": "code",
   "execution_count": null,
   "metadata": {
    "id": "LwDYu07SCHw7"
   },
   "outputs": [],
   "source": [
    "# Combine kernels you are using\n",
    "kernels = pset.Kernel(AdvectionRK4) + pset.Kernel(Ageing) + pset.Kernel(Distance) + pset.Kernel(Settle) + pset.Kernel(DiffusionUniformKh)\n",
    "\n"
   ]
  },
  {
   "cell_type": "markdown",
   "metadata": {
    "id": "r2K_2j5ECHw8"
   },
   "source": [
    "Execute the advection. Depending on how many particles you release and the length of your release this may take some time. \n",
    "\n",
    "Particles specified in `ParticleSet` are advected using `kernels` at a `model_dt` time step and printed in a netcdf file (`outfile`) at `save_dt` time steps. Particels reaching the limits of the domain are removed through `recovery`. \n",
    "\n",
    "We are executing `pset.execute` here twice: the first time we are releaseing particles daily (or whatever interval we decided to use). To stop this, we then set `pset.repeatdt = None` followed by a new `pset.execute` that lasts for as long as the PLD. This way, each particle released will run to the end of the pld. That is, the releases will stop PLD days before the end of the run. So you shouldn't have any trajectories with NA's at the end. "
   ]
  },
  {
   "cell_type": "code",
   "execution_count": null,
   "metadata": {
    "id": "2tQ2CCWPCHw8",
    "outputId": "8474bd92-bcf5-4ab0-d18c-318a9f1c0b2a"
   },
   "outputs": [],
   "source": [
    "# Time step in model\n",
    "model_dt = timedelta(hours=1)\n",
    "\n",
    "# Time step to save to file\n",
    "save_dt = timedelta(days=1)\n",
    "\n",
    "# Length of model run\n",
    "run_days = 365  # how long you want to realease particles for\n",
    "pld = 180       # how long after the last released particle you want the code to keep running\n",
    "\n",
    "# Set output file name\n",
    "output_file = pset.ParticleFile(name=\"LAPS_sensitivity_n250_pld180_20_Kh10_nday545_4day_2013_forPeter.nc\", outputdt=save_dt)\n",
    "\n",
    "# don't print depth\n",
    "#pset.set_variable_write_status('depth', False)\n",
    "\n",
    "# Execute and release daily during this timeframe\n",
    "pset.execute(kernels,\n",
    "            runtime=timedelta(days=run_days),\n",
    "            dt=model_dt, \n",
    "            recovery={ErrorCode.ErrorOutOfBounds: DeleteParticle},\n",
    "            output_file=output_file)\n",
    "\n",
    "# now stop the repeated release\n",
    "pset.repeatdt = None\n",
    "\n",
    "# now continue running for the remaining length of the PLD\n",
    "pset.execute(kernels,\n",
    "            runtime=timedelta(days=pld+1),\n",
    "            dt=model_dt, \n",
    "            recovery={ErrorCode.ErrorOutOfBounds: DeleteParticle},\n",
    "            output_file=output_file)\n",
    "\n",
    "output_file.export()"
   ]
  }
 ],
 "metadata": {
  "colab": {
   "name": "LAPS_Sensitivity.ipynb",
   "provenance": [
    {
     "file_id": "1nW1llgTUi9vr5iKfpHa7J9zskQ8BYULU",
     "timestamp": 1632263702719
    }
   ]
  },
  "kernelspec": {
   "display_name": "Python 3 (ipykernel)",
   "language": "python",
   "name": "python3"
  },
  "language_info": {
   "codemirror_mode": {
    "name": "ipython",
    "version": 3
   },
   "file_extension": ".py",
   "mimetype": "text/x-python",
   "name": "python",
   "nbconvert_exporter": "python",
   "pygments_lexer": "ipython3",
   "version": "3.9.13"
  }
 },
 "nbformat": 4,
 "nbformat_minor": 4
}
