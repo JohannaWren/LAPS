{
 "cells": [
  {
   "cell_type": "markdown",
   "metadata": {
    "id": "0iQDOjjXCHwp"
   },
   "source": [
    "# Base script for Ocean Parcels with land avoidance and particle age"
   ]
  },
  {
   "cell_type": "markdown",
   "metadata": {
    "id": "53WXM8fKCHwt"
   },
   "source": [
    "Author: Johanna Wren\n",
    "\n",
    "email: johanna.wren@noaa.gov\n",
    "\n",
    "Date: June 11, 2021"
   ]
  },
  {
   "cell_type": "markdown",
   "metadata": {
    "id": "a-NDTsIdCHwu"
   },
   "source": [
    "This script advects particles in pre-defined locations at a pre-defined depth using HYCOM currents stored on file. The trajectories are saved as a net cdf file. Since particles bunch up on the land border and then diffuse onto land, I added the land avoidance modification from These are the kernels from Erik's [*Delandmeter, P., and van Sebille, E. (2019). The Parcels v2.0 Lagrangian framework: new field interpolation schemes. Geoscientific Model Development 12, 3571–3584*](https://gmd.copernicus.org/articles/12/3571/2019/#section6), copied straight off. The original code can be found [here.](https://github.com/OceanParcels/Parcelsv2.0PaperNorthSeaScripts/blob/master/northsea_mp_kernels.py)"
   ]
  },
  {
   "cell_type": "markdown",
   "metadata": {
    "id": "GzTviHUgCHwu"
   },
   "source": [
    "## Load libraries\n",
    "We are not loading some of the basic libraries (e.g. `AdvectionRK4` and `DiffusionUniformKh`) here since we are modifying them for the land avoidance part. Rather, we are placing them in the code as kernels that we define instead. "
   ]
  },
  {
   "cell_type": "code",
   "execution_count": null,
   "metadata": {
    "id": "aN1wGXzhCHwv"
   },
   "outputs": [],
   "source": [
    "# Load libraries etc.\n",
    "from parcels import FieldSet, ParticleSet, JITParticle, ErrorCode, plotTrajectoriesFile, Variable, ParcelsRandom, Field\n",
    "import numpy as np\n",
    "import pandas as pd\n",
    "import xarray as xr\n",
    "from datetime import timedelta, datetime\n",
    "import math"
   ]
  },
  {
   "cell_type": "markdown",
   "metadata": {
    "id": "cJBJyfM7CHww"
   },
   "source": [
    "## Define kernels for land avoidance\n",
    "The land avoidance kernels are slight modifications to the built in Parcels kernels `AdvectionRK4` and `DiffusionUniformKh` plus two 'new' kernels called `BeachTesting_2D` and `UnBeaching`. \n",
    "\n",
    "Here we add a particle.beached tag to each particle. This flag will change whether a particle is in the ocean, if it's beached, if it needs to be unbeached, etc. The flags are: \n",
    "\n",
    "0 = sea, 1 = beached, 2 = after non-beach dyn, 3 = after beach dyn, 4 = please unbeach\n",
    "\n",
    "I'm only focusing on 2D dispersal here since that is the only dispersal that allows for diffusion and we do not have vertical velocities in HYCOM. The 3D dispersal kernels can be modified the same way we did here if you wish to run a simulation in 3D, and you can refer to Eric's paper for those modifications. "
   ]
  },
  {
   "cell_type": "markdown",
   "metadata": {
    "id": "VWW-wzv1CHwx"
   },
   "source": [
    "### ADVECTION\n",
    "The `AdvectionRK4` kernel is like the built in Parcels kernels except it has the additional particle.beached = 2 line added to it."
   ]
  },
  {
   "cell_type": "code",
   "execution_count": null,
   "metadata": {
    "id": "l5nvjRyfCHwx"
   },
   "outputs": [],
   "source": [
    "def AdvectionRK4(particle, fieldset, time):\n",
    "    if particle.beached == 0:\n",
    "        (u1, v1) = fieldset.UV[time, particle.depth, particle.lat, particle.lon]\n",
    "        lon1, lat1 = (particle.lon + u1*.5*particle.dt, particle.lat + v1*.5*particle.dt)\n",
    "\n",
    "        (u2, v2) = fieldset.UV[time + .5 * particle.dt, particle.depth, lat1, lon1]\n",
    "        lon2, lat2 = (particle.lon + u2*.5*particle.dt, particle.lat + v2*.5*particle.dt)\n",
    "\n",
    "        (u3, v3) = fieldset.UV[time + .5 * particle.dt, particle.depth, lat2, lon2]\n",
    "        lon3, lat3 = (particle.lon + u3*particle.dt, particle.lat + v3*particle.dt)\n",
    "\n",
    "        (u4, v4) = fieldset.UV[time + particle.dt, particle.depth, lat3, lon3]\n",
    "        particle.lon += (u1 + 2*u2 + 2*u3 + u4) / 6. * particle.dt\n",
    "        particle.lat += (v1 + 2*v2 + 2*v3 + v4) / 6. * particle.dt\n",
    "        particle.beached = 2"
   ]
  },
  {
   "cell_type": "markdown",
   "metadata": {
    "id": "jQxzvaRHCHwy"
   },
   "source": [
    "### DIFFUSION\n",
    "The `DiffusionUniformKh` is the same as the out of the box but it adds particle.beached = 3 to the kernel.\n"
   ]
  },
  {
   "cell_type": "code",
   "execution_count": null,
   "metadata": {
    "id": "yslZMT6RCHwz"
   },
   "outputs": [],
   "source": [
    "def DiffusionUniformKh(particle, fieldset, time):\n",
    "    if particle.beached == 0:\n",
    "        dWx = ParcelsRandom.normalvariate(0, math.sqrt(math.fabs(particle.dt)))\n",
    "        dWy = ParcelsRandom.normalvariate(0, math.sqrt(math.fabs(particle.dt)))\n",
    "\n",
    "        bx = math.sqrt(2 * fieldset.Kh_zonal[particle])\n",
    "        by = math.sqrt(2 * fieldset.Kh_meridional[particle])\n",
    "\n",
    "        particle.lon += bx * dWx\n",
    "        particle.lat += by * dWy\n",
    "        particle.beached = 3"
   ]
  },
  {
   "cell_type": "markdown",
   "metadata": {
    "id": "e8iPSEgVCHwz"
   },
   "source": [
    "### LAND AVOIDANCE\n",
    "This is made up of two kernels:`BeachTesting_2D` tests if a particle is beached or not and `UnBeaching` moves a particle away from beached area. If a particle is tagged as beached in the `BeachTesting_2D` kernel then it's moved into the `UnBeaching` kernel to bounce off land. \n",
    "\n",
    "Land is defined in the land mask added to the fieldset. In this version, land is tagged as 1 and ocean as 2. By changing the value in the `if land < 1.8` statement in the BeachTesting_2D object below you can control how close to land you want the particle to be to be considered on land as the field between ocean and land is interpolated. \n",
    "\n",
    "The bouncing is accieved by generating a random number between -0.05 and 0.05 and adds that to the latitude and longitude of the particle. You can comment out the `particle.lon += ...` bit and replace it with `particle.delete()` if you want to delete a particle instead of bouncing it. Or you can code up a mix where the particle is allowed a certain number of bounces before it's deleted. This would be to prevent particles fron getting on land and diffusing across land."
   ]
  },
  {
   "cell_type": "code",
   "execution_count": null,
   "metadata": {
    "id": "bsT7Q52FCHw0"
   },
   "outputs": [],
   "source": [
    "def BeachTesting_2D(particle, fieldset, time):\n",
    "    if particle.beached == 2 or particle.beached == 3:\n",
    "        land = fieldset.Land[particle]\n",
    "        if land < 1.8: \n",
    "            particle.beached = 4\n",
    "        else:\n",
    "            particle.beached = 0"
   ]
  },
  {
   "cell_type": "code",
   "execution_count": null,
   "metadata": {
    "id": "bHDfT2b9CHw0"
   },
   "outputs": [],
   "source": [
    "def UnBeaching(particle, fieldset, time):\n",
    "    if particle.beached == 4:\n",
    "        particle.lon += ParcelsRandom.uniform(-0.05,0.05) * particle.dt\n",
    "        particle.lat += ParcelsRandom.uniform(-0.05,0.05) * particle.dt\n",
    "        particle.beached = 0\n",
    "        particle.unbeachCount += 1"
   ]
  },
  {
   "cell_type": "markdown",
   "metadata": {
    "id": "ZsQbu2ENCHw1"
   },
   "source": [
    "## Define other custom kenels\n",
    "This is where we define other useful custom kenels."
   ]
  },
  {
   "cell_type": "markdown",
   "metadata": {
    "id": "dF6TFMnBCHw1"
   },
   "source": [
    "### DELETE PARTICLES\n",
    "`DeleteParticles` allows for particles to be deleted when they exit the dispersal domain. This is applied to the borders of the domain but NOT to land. "
   ]
  },
  {
   "cell_type": "code",
   "execution_count": null,
   "metadata": {
    "id": "vEv5gfn-CHw2"
   },
   "outputs": [],
   "source": [
    "def DeleteParticle(particle, fieldset, time):\n",
    "    particle.delete()"
   ]
  },
  {
   "cell_type": "markdown",
   "metadata": {
    "id": "IeNQIJv5CHw2"
   },
   "source": [
    "### AGEING\n",
    "The `Ageing` kernel removes particles after a specific time period (PLD) by calling the `DeleteParticles` kernel. This allows you to run simulation for long periods of time while removing particles after a set number of days.\n",
    "\n",
    "<span style=\"color:red\">**THE PLD IS HARDCODED HERE SO MAKE SURE YOU CHANGE IT TO MATCH YOUR SPECIES OF CHOICE**</span>"
   ]
  },
  {
   "cell_type": "code",
   "execution_count": null,
   "metadata": {
    "id": "O_WJkWGaCHw2"
   },
   "outputs": [],
   "source": [
    "def Ageing(particle, fieldset, time):\n",
    "    pld=30\n",
    "    particle.age += particle.dt/86400\n",
    "    if particle.age >= pld:\n",
    "        particle.delete() "
   ]
  },
  {
   "cell_type": "markdown",
   "metadata": {
    "id": "0xQujL0xCHw3"
   },
   "source": [
    "## Create a fieldset\n",
    "We are creating a fieldset from HYCOM current files downloaded and stored on a drive. The fieldset is what OceanParcels uses to store all the information it needs for the flowfield that it moves particles through.\n",
    "\n",
    "The HYCOM data was downloaded using the `HYCOM_download.jnl` script and grabs u and v currents for a region 120E-120W and 0-50N. The surface, 0-25m average, 0-50m average, and 0-100m average currents are calculated and saved. The files are saved as HYCOM_LAPS_????.nc files where the number indexing is days since the start of the dataseries on Jan 1, 1994. The HYCOM data can be found on the [APDRC website](http://apdrc.soest.hawaii.edu/erddap/griddap/hawaii_soest_3151_b22a_aae6). \n",
    "\n",
    "Because these files were saved using Ferret the lon and lat variable names are a bit different. You can check the variable names by reading them into this script (see commented out section below) or through `ncdump -h HYCOM_LAPS_2648.nc` command in your terminal (on a unix/linux machine). \n",
    "\n",
    "<span style=\"color:red\">**Be sure to set your variables here to whichever depth strata you want to use.**</span>\n",
    "\n",
    "This bit of code generates a land mask from the roms file and adds it to the fieldset. You can run the code this way if you wish. The last line saves the land mask as a ncdf file and the code in the cell below reads in that landmask and adds it to the roms fielset so you don't have to generate it everytime you run the code. Either way works, pick which you prefer, but reading it in from ncdf (the second cell below) is MUCH MUCH faster.\n",
    "\n",
    "Here the land mask is written as 2 for ocean and 1 for land, so make sure you have the same values in the bounce kernel below."
   ]
  },
  {
   "cell_type": "code",
   "execution_count": null,
   "metadata": {
    "id": "ogu0KOKyF6LO"
   },
   "outputs": [],
   "source": [
    "# read in current file as xarray dataset\n",
    "hycom = xr.open_dataset('HYCOM_LAPS_*.nc')\n",
    "\n",
    "# Generate ocean mask \n",
    "mask_ocean = 2 * np.ones((hycom.dims['latitude'], hycom.dims['longitude'])) * np.isfinite(hycom.u.isel())  \n",
    "# and land mask\n",
    "mask_land = 1 * np.ones((hycom.dims['latitude'], hycom.dims['longitude'])) * np.isnan(hycom.u.isel())  \n",
    "# and combine \n",
    "mask_array = mask_ocean + mask_land\n",
    "# add land to hycom\n",
    "hycom['land'] = mask_array\n",
    "\n",
    "# Define variables and dimensions for fieldset\n",
    "variables = {'U':'WATER_U', \n",
    "             'V':'WATER_V'}\n",
    "\n",
    "dimensions = {'lat': 'LATITUDE1001_1626', 'lon': 'LONGITUDE3751_5251', 'depth': 'LEV1_1', 'time': 'TIME'}\n",
    "\n",
    "# Make fieldset\n",
    "fieldset = FieldSet.from_xarray_dataset(hycom, variables, dimensions)\n",
    "\n",
    "# read in land field using a different interpolation method\n",
    "fieldset.add_field(Field('Land', hycom['land'], grid=fieldset.U.grid, interp_method='nearest')) \n",
    "\n",
    "hycom.land.to_netcdf('landMask.nc')"
   ]
  },
  {
   "cell_type": "markdown",
   "metadata": {
    "id": "HYxPEq4YISRO"
   },
   "source": [
    "The following code reads in currents and a land mask that is saved to a file and makes one fieldset. Run either the code below or the code above, but not both as that would be redundant. "
   ]
  },
  {
   "cell_type": "code",
   "execution_count": null,
   "metadata": {
    "id": "PQpT9FujHwW2"
   },
   "outputs": [],
   "source": [
    "file1 = 'HYCOM_LAPS_*.nc'\n",
    "file2 = 'landMask.nc'\n",
    "filenames = {'U': file1, \n",
    "             'V': file1, \n",
    "             'Land': file2}\n",
    "variables = {'U':'WATER_U', \n",
    "             'V':'WATER_V', \n",
    "             'Land': 'land'}\n",
    "dimensions = {'lat': 'LATITUDE1001_1626',\n",
    "              'lon': 'LONGITUDE3751_5251',\n",
    "              'depth': 'LEV1_1',\n",
    "              'time': 'TIME'}\n",
    "fieldset = FieldSet.from_netcdf(filenames, variables, dimensions)"
   ]
  },
  {
   "cell_type": "markdown",
   "metadata": {
    "id": "fW5pR4yqIJkR"
   },
   "source": [
    "This bit is if you don't read in the land mask and just do a fieldset. If you are using a land mask just comment this out. "
   ]
  },
  {
   "cell_type": "code",
   "execution_count": null,
   "metadata": {
    "id": "8L7mxhBZCHw3"
   },
   "outputs": [],
   "source": [
    "'''\n",
    "filenames = {'U': \"HYCOM_LAPS_*.nc\",\n",
    "             'V': \"HYCOM_LAPS_*.nc\"}\n",
    "variables = {'U': 'WATER_U',\n",
    "             'V': 'WATER_V'}\n",
    "dimensions = {'lat': 'LATITUDE1001_1626',\n",
    "              'lon': 'LONGITUDE3751_5251',\n",
    "              'depth': 'LEV1_1',\n",
    "              'time': 'TIME'}\n",
    "fieldset = FieldSet.from_netcdf(filenames, variables, dimensions)\n",
    "'''"
   ]
  },
  {
   "cell_type": "markdown",
   "metadata": {
    "id": "sPt43DwSCHw3"
   },
   "source": [
    "Run some diagnostics on the `fieldset` to make sure it is read in properly. If your dataset is straddeling the 180 longitude, Parcels might plot the map in +-180 so the fieldset isn't continuous geographically, but that is just the plotting function, it still works fine and advects across the 180 meridian. "
   ]
  },
  {
   "cell_type": "code",
   "execution_count": null,
   "metadata": {
    "id": "hxPMnZKrCHw3",
    "outputId": "5fe3f126-957f-419e-fbbe-36b6ceffe054"
   },
   "outputs": [
    {
     "data": {
      "image/png": "[encoded data removed]",
      "text/plain": [
       "<Figure size 432x288 with 2 Axes>"
      ]
     },
     "metadata": {
      "needs_background": "light",
      "tags": []
     },
     "output_type": "display_data"
    }
   ],
   "source": [
    "# Plot the U field\n",
    "fieldset.U.show()\n",
    "# Plot the land mask\n",
    "fieldset.Land.show()"
   ]
  },
  {
   "cell_type": "markdown",
   "metadata": {
    "id": "bonu27A5CHw4"
   },
   "source": [
    "## Add diffusivity\n",
    "In order for diffusivity to be incorporated we need to add zonal and meridional Kh fields. This code uses spatially homogenous diffusivity, but if you want spatially varying diffusivity use the `AdvectionDiffusionEM` or `AdvectionDiffusionM1` kernel instead.\n",
    "\n",
    "Skip the next cell if you want to run without diffusivity. "
   ]
  },
  {
   "cell_type": "code",
   "execution_count": null,
   "metadata": {
    "id": "HHI5QuM5CHw5",
    "scrolled": true
   },
   "outputs": [],
   "source": [
    "kh = 10   # This is the eddy diffusivity in m2/s\n",
    "\n",
    "# Add even diffusivity to the fieldset\n",
    "fieldset.add_constant_field('Kh_zonal', kh, mesh='spherical')\n",
    "fieldset.add_constant_field('Kh_meridional', kh, mesh='spherical')            "
   ]
  },
  {
   "cell_type": "markdown",
   "metadata": {
    "id": "nb4SlJDCCHw5"
   },
   "source": [
    "## Define your particle type\n",
    "We are using a JIT particle but we are adding the age variable along with beached and unbeachCount variables to them. These will print to the output file, but it's easy to change to not show in the ouput file. "
   ]
  },
  {
   "cell_type": "code",
   "execution_count": null,
   "metadata": {
    "id": "ZCms9ZDOCHw5"
   },
   "outputs": [],
   "source": [
    "class LandAvoidParticle(JITParticle):\n",
    "    age = Variable('age', dtype=np.float32, initial=0.)\n",
    "    beached = Variable('beached', dtype=np.int32, initial=0.)\n",
    "    unbeachCount = Variable('unbeachCount', dtype=np.int32, initial=0.)\n",
    "    releaseSite = Variable('releaseSite', dtype=np.int32)"
   ]
  },
  {
   "cell_type": "markdown",
   "metadata": {
    "id": "syuTR0HZCHw5"
   },
   "source": [
    "## Set particle release locations\n",
    "Next, we instantiate a `ParticeSet` composed of `JITParticle`. \n",
    "\n",
    "`ParticleSet` holds release locations, the number of particles released, the release depth, and how often a particel should be released (daily, every 6h, etc.)\n",
    "\n",
    "Particles are released from locations specified in a file. We use this if we want to release at for example all reef locations in the islands, or any other list of locations. \n",
    "\n",
    "You can add or omit `pdepth`, `time` and `repeatdt` for a one time release at the default `fieldset` depth (in a multi depth file default is top layer) and time. "
   ]
  },
  {
   "cell_type": "code",
   "execution_count": null,
   "metadata": {
    "id": "XKpk8JOVCHw6"
   },
   "outputs": [],
   "source": [
    "# Set input file\n",
    "infile = pd.read_csv('LAPS_release_sites.csv')\n",
    "\n",
    "# Set number of particles you want to release\n",
    "npart = 10\n",
    "\n",
    "# Set the second column as longitude and third column as latitude (remember that python indexing starts at 0!)\n",
    "habilon=np.repeat(infile.Lon, npart)\n",
    "habilat=np.repeat(infile.Lat, npart)\n",
    "habisite = np.repeat(infile.Site,npart)\n",
    "\n",
    "# Time interval between particle release (in seconds)\n",
    "release_int = 86400\n",
    "\n",
    "# Start date for release (if you want it different from the first day of the currents in the fielset)\n",
    "start_date = datetime(2000, 1, 16)\n",
    "\n",
    "# Define the pset\n",
    "pset = ParticleSet.from_list(fieldset=fieldset, \n",
    "                             pclass=LandAvoidParticle, \n",
    "                             lon=habilon,\n",
    "                             lat=habilat,\n",
    "                             releaseSite=habisite,\n",
    "                             repeatdt=release_int)"
   ]
  },
  {
   "cell_type": "markdown",
   "metadata": {
    "id": "cf5YhFSVCHw6"
   },
   "source": [
    "### Visualize particle start locations\n",
    "We can now see where the particles are seesed by using `pset.show` "
   ]
  },
  {
   "cell_type": "code",
   "execution_count": null,
   "metadata": {
    "id": "vj4ZH-2xCHw6",
    "outputId": "2df0a011-3967-4543-98be-faa45b1816ae"
   },
   "outputs": [
    {
     "name": "stdout",
     "output_type": "stream",
     "text": [
      "P[12](lon=144.800003, lat=13.460000, depth=0.000000, age=0.000000, beached=0.000000, unbeachCount=0.000000, time=not_yet_set)\n",
      "P[13](lon=145.750000, lat=15.180000, depth=0.000000, age=0.000000, beached=0.000000, unbeachCount=0.000000, time=not_yet_set)\n",
      "P[14](lon=171.199997, lat=7.110000, depth=0.000000, age=0.000000, beached=0.000000, unbeachCount=0.000000, time=not_yet_set)\n",
      "P[15](lon=166.809998, lat=11.345000, depth=0.000000, age=0.000000, beached=0.000000, unbeachCount=0.000000, time=not_yet_set)\n",
      "P[16](lon=203.500000, lat=2.000000, depth=0.000000, age=0.000000, beached=0.000000, unbeachCount=0.000000, time=not_yet_set)\n",
      "P[17](lon=158.240005, lat=6.875000, depth=0.000000, age=0.000000, beached=0.000000, unbeachCount=0.000000, time=not_yet_set)\n",
      "P[18](lon=128.059998, lat=26.520000, depth=0.000000, age=0.000000, beached=0.000000, unbeachCount=0.000000, time=not_yet_set)\n",
      "P[19](lon=202.100006, lat=21.430000, depth=0.000000, age=0.000000, beached=0.000000, unbeachCount=0.000000, time=not_yet_set)\n",
      "P[20](lon=204.399994, lat=19.475000, depth=0.000000, age=0.000000, beached=0.000000, unbeachCount=0.000000, time=not_yet_set)\n",
      "P[21](lon=193.850006, lat=23.750000, depth=0.000000, age=0.000000, beached=0.000000, unbeachCount=0.000000, time=not_yet_set)\n",
      "P[22](lon=190.470001, lat=16.760000, depth=0.000000, age=0.000000, beached=0.000000, unbeachCount=0.000000, time=not_yet_set)\n",
      "P[23](lon=166.649994, lat=19.280001, depth=0.000000, age=0.000000, beached=0.000000, unbeachCount=0.000000, time=not_yet_set)\n"
     ]
    },
    {
     "data": {
      "image/png": "[encoded data removed]",
      "text/plain": [
       "<Figure size 432x288 with 1 Axes>"
      ]
     },
     "metadata": {
      "needs_background": "light",
      "tags": []
     },
     "output_type": "display_data"
    }
   ],
   "source": [
    "print(pset)\n",
    "pset.show()"
   ]
  },
  {
   "cell_type": "markdown",
   "metadata": {
    "id": "aKGmuDW6CHw7"
   },
   "source": [
    "## Advect particles"
   ]
  },
  {
   "cell_type": "markdown",
   "metadata": {
    "id": "b8GisMkgCHw7"
   },
   "source": [
    "To invoke the land avoidance and custom kernels we wrote earlier we need to combine them into a format Parcels can use. Simply string all the kernels together that you want to use.\n"
   ]
  },
  {
   "cell_type": "code",
   "execution_count": null,
   "metadata": {
    "id": "LwDYu07SCHw7"
   },
   "outputs": [],
   "source": [
    "# Combine kernels you are using\n",
    "kernels = pset.Kernel(AdvectionRK4) + pset.Kernel(BeachTesting_2D) + pset.Kernel(UnBeaching) + pset.Kernel(DiffusionUniformKh) + pset.Kernel(BeachTesting_2D) + pset.Kernel(Ageing)\n"
   ]
  },
  {
   "cell_type": "markdown",
   "metadata": {
    "id": "r2K_2j5ECHw8"
   },
   "source": [
    "Execute the advection. Depending on how many particles you release and the length of your release this may take some time. \n",
    "\n",
    "Particles specified in `ParticleSet` are advected using `kernels` at a `model_dt` time step and printed in a netcdf file (`outfile`) at `save_dt` time steps. Particels reaching the limits of the domain are removed through `recovery`. "
   ]
  },
  {
   "cell_type": "code",
   "execution_count": null,
   "metadata": {
    "id": "2tQ2CCWPCHw8",
    "outputId": "8474bd92-bcf5-4ab0-d18c-318a9f1c0b2a"
   },
   "outputs": [
    {
     "name": "stderr",
     "output_type": "stream",
     "text": [
      "INFO: Compiled LandAvoidParticleAdvectionRK4DiffusionUniformKhBeachTesting_2DUnBeachingAgeing ==> /var/folders/6z/7snm9z7n1t1f5xnq500m7z_js00kn8/T/parcels-1912621736/370341bea1316e1953cdbf58d7d0dbad_0.so\n",
      "INFO: Temporary output files are stored in out-XYOUYHLE.\n",
      "INFO: You can use \"parcels_convert_npydir_to_netcdf out-XYOUYHLE\" to convert these to a NetCDF file during the run.\n",
      "100% (3801600.0 of 3801600.0) |##########| Elapsed Time: 0:00:04 Time:  0:00:04\n"
     ]
    }
   ],
   "source": [
    "# Set output file name\n",
    "outfile = \"Test_LAPS_2.nc\"\n",
    "# Time step in model\n",
    "model_dt = timedelta(minutes=5)\n",
    "# Time step to save to file\n",
    "save_dt = timedelta(hours=1)\n",
    "# Length of model run\n",
    "run_days = 44\n",
    "\n",
    "# Execute\n",
    "pset.execute(kernels,\n",
    "            runtime=timedelta(days=run_days),\n",
    "            dt=model_dt, \n",
    "            recovery={ErrorCode.ErrorOutOfBounds: DeleteParticle},\n",
    "            output_file=pset.ParticleFile(name=outfile, outputdt=save_dt))"
   ]
  },
  {
   "cell_type": "markdown",
   "metadata": {
    "id": "lUP3EIu9CHw8"
   },
   "source": [
    "To make sure particles have been advected run `pset.show()` again. "
   ]
  },
  {
   "cell_type": "code",
   "execution_count": null,
   "metadata": {
    "id": "N4GZORYACHw9",
    "outputId": "1db49859-9c68-482c-af35-b956643e951e"
   },
   "outputs": [
    {
     "data": {
      "text/plain": [
       "P[180](lon=144.176437, lat=12.857871, depth=0.000000, age=29.997002, beached=0.000000, unbeachCount=0.000000, time=3801600.000000)\n",
       "P[181](lon=146.110840, lat=16.003479, depth=0.000000, age=29.997002, beached=0.000000, unbeachCount=0.000000, time=3801600.000000)\n",
       "P[182](lon=174.642365, lat=9.877241, depth=0.000000, age=29.997002, beached=0.000000, unbeachCount=0.000000, time=3801600.000000)\n",
       "P[183](lon=162.522202, lat=12.261503, depth=0.000000, age=29.997002, beached=0.000000, unbeachCount=0.000000, time=3801600.000000)\n",
       "P[184](lon=200.887619, lat=5.628757, depth=0.000000, age=29.997002, beached=0.000000, unbeachCount=0.000000, time=3801600.000000)\n",
       "P[185](lon=158.240005, lat=6.875000, depth=0.000000, age=29.997002, beached=0.000000, unbeachCount=0.000000, time=3801600.000000)\n",
       "P[186](lon=127.984032, lat=26.350447, depth=0.000000, age=29.997002, beached=0.000000, unbeachCount=0.000000, time=3801600.000000)\n",
       "P[187](lon=202.100006, lat=21.430000, depth=0.000000, age=29.997002, beached=0.000000, unbeachCount=0.000000, time=3801600.000000)\n",
       "P[188](lon=204.399994, lat=19.475000, depth=0.000000, age=29.997002, beached=0.000000, unbeachCount=0.000000, time=3801600.000000)\n",
       "P[189](lon=192.631104, lat=24.141230, depth=0.000000, age=29.997002, beached=0.000000, unbeachCount=0.000000, time=3801600.000000)\n",
       "P[190](lon=186.008255, lat=17.341505, depth=0.000000, age=29.997002, beached=0.000000, unbeachCount=0.000000, time=3801600.000000)\n",
       "P[191](lon=166.525635, lat=19.985746, depth=0.000000, age=29.997002, beached=0.000000, unbeachCount=0.000000, time=3801600.000000)\n",
       "P[192](lon=144.054016, lat=12.625943, depth=0.000000, age=28.997246, beached=0.000000, unbeachCount=0.000000, time=3801600.000000)\n",
       "P[193](lon=146.017441, lat=15.593789, depth=0.000000, age=28.997246, beached=0.000000, unbeachCount=0.000000, time=3801600.000000)\n",
       "P[194](lon=176.623871, lat=8.489586, depth=0.000000, age=28.997246, beached=0.000000, unbeachCount=0.000000, time=3801600.000000)\n",
       "P[195](lon=163.047974, lat=12.234062, depth=0.000000, age=28.997246, beached=0.000000, unbeachCount=0.000000, time=3801600.000000)\n",
       "P[196](lon=204.915787, lat=5.240877, depth=0.000000, age=28.997246, beached=0.000000, unbeachCount=0.000000, time=3801600.000000)\n",
       "P[197](lon=158.240005, lat=6.875000, depth=0.000000, age=28.997246, beached=0.000000, unbeachCount=0.000000, time=3801600.000000)\n",
       "P[198](lon=128.000580, lat=26.271347, depth=0.000000, age=28.997246, beached=0.000000, unbeachCount=0.000000, time=3801600.000000)\n",
       "P[199](lon=202.100006, lat=21.430000, depth=0.000000, age=28.997246, beached=0.000000, unbeachCount=0.000000, time=3801600.000000)\n",
       "P[200](lon=204.399994, lat=19.475000, depth=0.000000, age=28.997246, beached=0.000000, unbeachCount=0.000000, time=3801600.000000)\n",
       "P[201](lon=193.016434, lat=24.192869, depth=0.000000, age=28.997246, beached=0.000000, unbeachCount=0.000000, time=3801600.000000)\n",
       "P[202](lon=185.739166, lat=17.187553, depth=0.000000, age=28.997246, beached=0.000000, unbeachCount=0.000000, time=3801600.000000)\n",
       "P[203](lon=166.372559, lat=20.091185, depth=0.000000, age=28.997246, beached=0.000000, unbeachCount=0.000000, time=3801600.000000)\n",
       "P[204](lon=144.076187, lat=12.650217, depth=0.000000, age=27.997490, beached=0.000000, unbeachCount=0.000000, time=3801600.000000)\n",
       "P[205](lon=145.838394, lat=16.231060, depth=0.000000, age=27.997490, beached=0.000000, unbeachCount=0.000000, time=3801600.000000)\n",
       "P[206](lon=175.464890, lat=9.899121, depth=0.000000, age=27.997490, beached=0.000000, unbeachCount=0.000000, time=3801600.000000)\n",
       "P[207](lon=161.517090, lat=13.578538, depth=0.000000, age=27.997490, beached=0.000000, unbeachCount=0.000000, time=3801600.000000)\n",
       "P[208](lon=200.964066, lat=5.668014, depth=0.000000, age=27.997490, beached=0.000000, unbeachCount=0.000000, time=3801600.000000)\n",
       "P[209](lon=158.240005, lat=6.875000, depth=0.000000, age=27.997490, beached=0.000000, unbeachCount=0.000000, time=3801600.000000)\n",
       "P[210](lon=128.014694, lat=26.286661, depth=0.000000, age=27.997490, beached=0.000000, unbeachCount=0.000000, time=3801600.000000)\n",
       "P[211](lon=202.100006, lat=21.430000, depth=0.000000, age=27.997490, beached=0.000000, unbeachCount=0.000000, time=3801600.000000)\n",
       "P[212](lon=204.399994, lat=19.475000, depth=0.000000, age=27.997490, beached=0.000000, unbeachCount=0.000000, time=3801600.000000)\n",
       "P[213](lon=193.524597, lat=24.303883, depth=0.000000, age=27.997490, beached=0.000000, unbeachCount=0.000000, time=3801600.000000)\n",
       "P[214](lon=185.778976, lat=17.458487, depth=0.000000, age=27.997490, beached=0.000000, unbeachCount=0.000000, time=3801600.000000)\n",
       "P[215](lon=166.344391, lat=20.213263, depth=0.000000, age=27.997490, beached=0.000000, unbeachCount=0.000000, time=3801600.000000)\n",
       "P[216](lon=144.241409, lat=13.160847, depth=0.000000, age=26.997734, beached=0.000000, unbeachCount=0.000000, time=3801600.000000)\n",
       "P[217](lon=144.121323, lat=15.636721, depth=0.000000, age=26.997734, beached=0.000000, unbeachCount=0.000000, time=3801600.000000)\n",
       "P[218](lon=172.747391, lat=10.043224, depth=0.000000, age=26.997734, beached=0.000000, unbeachCount=0.000000, time=3801600.000000)\n",
       "P[219](lon=161.817123, lat=12.980947, depth=0.000000, age=26.997734, beached=0.000000, unbeachCount=0.000000, time=3801600.000000)\n",
       "P[220](lon=199.843491, lat=2.917976, depth=0.000000, age=26.997734, beached=0.000000, unbeachCount=0.000000, time=3801600.000000)\n",
       "P[221](lon=158.240005, lat=6.875000, depth=0.000000, age=26.997734, beached=0.000000, unbeachCount=0.000000, time=3801600.000000)\n",
       "P[222](lon=127.761475, lat=26.160267, depth=0.000000, age=26.997734, beached=0.000000, unbeachCount=0.000000, time=3801600.000000)\n",
       "P[223](lon=202.100006, lat=21.430000, depth=0.000000, age=26.997734, beached=0.000000, unbeachCount=0.000000, time=3801600.000000)\n",
       "P[224](lon=204.399994, lat=19.475000, depth=0.000000, age=26.997734, beached=0.000000, unbeachCount=0.000000, time=3801600.000000)\n",
       "P[225](lon=194.065247, lat=25.031403, depth=0.000000, age=26.997734, beached=0.000000, unbeachCount=0.000000, time=3801600.000000)\n",
       "P[226](lon=185.740295, lat=16.594465, depth=0.000000, age=26.997734, beached=0.000000, unbeachCount=0.000000, time=3801600.000000)\n",
       "P[227](lon=166.308411, lat=20.075249, depth=0.000000, age=26.997734, beached=0.000000, unbeachCount=0.000000, time=3801600.000000)\n",
       "P[228](lon=144.548935, lat=13.434806, depth=0.000000, age=25.997978, beached=0.000000, unbeachCount=0.000000, time=3801600.000000)\n",
       "P[229](lon=145.885574, lat=16.329815, depth=0.000000, age=25.997978, beached=0.000000, unbeachCount=0.000000, time=3801600.000000)\n",
       "P[230](lon=175.897598, lat=8.695568, depth=0.000000, age=25.997978, beached=0.000000, unbeachCount=0.000000, time=3801600.000000)\n",
       "P[231](lon=161.733582, lat=13.416711, depth=0.000000, age=25.997978, beached=0.000000, unbeachCount=0.000000, time=3801600.000000)\n",
       "P[232](lon=201.376038, lat=6.280742, depth=0.000000, age=25.997978, beached=0.000000, unbeachCount=0.000000, time=3801600.000000)\n",
       "P[233](lon=158.240005, lat=6.875000, depth=0.000000, age=25.997978, beached=0.000000, unbeachCount=0.000000, time=3801600.000000)\n",
       "P[234](lon=127.761482, lat=26.161016, depth=0.000000, age=25.997978, beached=0.000000, unbeachCount=0.000000, time=3801600.000000)\n",
       "P[235](lon=202.100006, lat=21.430000, depth=0.000000, age=25.997978, beached=0.000000, unbeachCount=0.000000, time=3801600.000000)\n",
       "P[236](lon=204.399994, lat=19.475000, depth=0.000000, age=25.997978, beached=0.000000, unbeachCount=0.000000, time=3801600.000000)\n",
       "P[237](lon=194.961853, lat=24.921404, depth=0.000000, age=25.997978, beached=0.000000, unbeachCount=0.000000, time=3801600.000000)\n",
       "P[238](lon=185.358078, lat=16.146732, depth=0.000000, age=25.997978, beached=0.000000, unbeachCount=0.000000, time=3801600.000000)\n",
       "P[239](lon=166.231506, lat=20.110771, depth=0.000000, age=25.997978, beached=0.000000, unbeachCount=0.000000, time=3801600.000000)\n",
       "P[240](lon=144.696136, lat=13.439010, depth=0.000000, age=24.998222, beached=0.000000, unbeachCount=0.000000, time=3801600.000000)\n",
       "P[241](lon=145.889755, lat=16.413649, depth=0.000000, age=24.998222, beached=0.000000, unbeachCount=0.000000, time=3801600.000000)\n",
       "P[242](lon=174.524582, lat=9.719145, depth=0.000000, age=24.998222, beached=0.000000, unbeachCount=0.000000, time=3801600.000000)\n",
       "P[243](lon=161.449310, lat=13.303255, depth=0.000000, age=24.998222, beached=0.000000, unbeachCount=0.000000, time=3801600.000000)\n",
       "P[244](lon=200.807022, lat=6.005293, depth=0.000000, age=24.998222, beached=0.000000, unbeachCount=0.000000, time=3801600.000000)\n",
       "P[245](lon=158.240005, lat=6.875000, depth=0.000000, age=24.998222, beached=0.000000, unbeachCount=0.000000, time=3801600.000000)\n",
       "P[246](lon=127.780411, lat=26.185055, depth=0.000000, age=24.998222, beached=0.000000, unbeachCount=0.000000, time=3801600.000000)\n",
       "P[247](lon=202.100006, lat=21.430000, depth=0.000000, age=24.998222, beached=0.000000, unbeachCount=0.000000, time=3801600.000000)\n",
       "P[248](lon=204.399994, lat=19.475000, depth=0.000000, age=24.998222, beached=0.000000, unbeachCount=0.000000, time=3801600.000000)\n",
       "P[249](lon=194.702698, lat=25.176437, depth=0.000000, age=24.998222, beached=0.000000, unbeachCount=0.000000, time=3801600.000000)\n",
       "P[250](lon=185.269745, lat=16.068066, depth=0.000000, age=24.998222, beached=0.000000, unbeachCount=0.000000, time=3801600.000000)\n",
       "P[251](lon=166.286331, lat=20.065849, depth=0.000000, age=24.998222, beached=0.000000, unbeachCount=0.000000, time=3801600.000000)\n",
       "P[252](lon=144.675797, lat=13.453500, depth=0.000000, age=23.998466, beached=0.000000, unbeachCount=0.000000, time=3801600.000000)\n",
       "P[253](lon=145.872116, lat=16.157455, depth=0.000000, age=23.998466, beached=0.000000, unbeachCount=0.000000, time=3801600.000000)\n",
       "P[254](lon=177.908310, lat=7.673548, depth=0.000000, age=23.998466, beached=0.000000, unbeachCount=0.000000, time=3801600.000000)\n",
       "P[255](lon=161.455688, lat=11.894057, depth=0.000000, age=23.998466, beached=0.000000, unbeachCount=0.000000, time=3801600.000000)\n",
       "P[256](lon=201.233322, lat=6.705225, depth=0.000000, age=23.998466, beached=0.000000, unbeachCount=0.000000, time=3801600.000000)\n",
       "P[257](lon=158.240005, lat=6.875000, depth=0.000000, age=23.998466, beached=0.000000, unbeachCount=0.000000, time=3801600.000000)\n",
       "P[258](lon=127.991318, lat=26.429651, depth=0.000000, age=23.998466, beached=0.000000, unbeachCount=0.000000, time=3801600.000000)\n",
       "P[259](lon=202.100006, lat=21.430000, depth=0.000000, age=23.998466, beached=0.000000, unbeachCount=0.000000, time=3801600.000000)\n",
       "P[260](lon=204.399994, lat=19.475000, depth=0.000000, age=23.998466, beached=0.000000, unbeachCount=0.000000, time=3801600.000000)\n",
       "P[261](lon=195.317032, lat=24.948174, depth=0.000000, age=23.998466, beached=0.000000, unbeachCount=0.000000, time=3801600.000000)\n",
       "P[262](lon=184.997650, lat=15.932045, depth=0.000000, age=23.998466, beached=0.000000, unbeachCount=0.000000, time=3801600.000000)\n",
       "P[263](lon=166.119781, lat=20.235394, depth=0.000000, age=23.998466, beached=0.000000, unbeachCount=0.000000, time=3801600.000000)\n",
       "P[264](lon=144.650162, lat=13.458566, depth=0.000000, age=22.998711, beached=0.000000, unbeachCount=0.000000, time=3801600.000000)\n",
       "P[265](lon=145.923111, lat=15.610584, depth=0.000000, age=22.998711, beached=0.000000, unbeachCount=0.000000, time=3801600.000000)\n",
       "P[266](lon=175.795807, lat=8.169205, depth=0.000000, age=22.998711, beached=0.000000, unbeachCount=0.000000, time=3801600.000000)\n",
       "P[267](lon=161.526138, lat=11.745755, depth=0.000000, age=22.998711, beached=0.000000, unbeachCount=0.000000, time=3801600.000000)\n",
       "P[268](lon=200.596237, lat=5.399627, depth=0.000000, age=22.998711, beached=0.000000, unbeachCount=0.000000, time=3801600.000000)\n",
       "P[269](lon=158.240005, lat=6.875000, depth=0.000000, age=22.998711, beached=0.000000, unbeachCount=0.000000, time=3801600.000000)\n",
       "P[270](lon=127.984459, lat=26.375370, depth=0.000000, age=22.998711, beached=0.000000, unbeachCount=0.000000, time=3801600.000000)\n",
       "P[271](lon=202.100006, lat=21.430000, depth=0.000000, age=22.998711, beached=0.000000, unbeachCount=0.000000, time=3801600.000000)\n",
       "P[272](lon=204.399994, lat=19.475000, depth=0.000000, age=22.998711, beached=0.000000, unbeachCount=0.000000, time=3801600.000000)\n",
       "P[273](lon=194.504852, lat=24.890051, depth=0.000000, age=22.998711, beached=0.000000, unbeachCount=0.000000, time=3801600.000000)\n",
       "P[274](lon=183.903595, lat=16.156345, depth=0.000000, age=22.998711, beached=0.000000, unbeachCount=0.000000, time=3801600.000000)\n",
       "P[275](lon=165.952164, lat=20.418173, depth=0.000000, age=22.998711, beached=0.000000, unbeachCount=0.000000, time=3801600.000000)\n",
       "P[276](lon=144.667038, lat=13.456595, depth=0.000000, age=21.998955, beached=0.000000, unbeachCount=0.000000, time=3801600.000000)\n",
       "P[277](lon=143.892426, lat=15.438758, depth=0.000000, age=21.998955, beached=0.000000, unbeachCount=0.000000, time=3801600.000000)\n",
       "P[278](lon=175.982147, lat=7.298397, depth=0.000000, age=21.998955, beached=0.000000, unbeachCount=0.000000, time=3801600.000000)\n",
       "P[279](lon=161.539398, lat=11.553682, depth=0.000000, age=21.998955, beached=0.000000, unbeachCount=0.000000, time=3801600.000000)\n",
       "P[280](lon=200.278549, lat=4.788442, depth=0.000000, age=21.998955, beached=0.000000, unbeachCount=0.000000, time=3801600.000000)\n",
       "P[281](lon=158.240005, lat=6.875000, depth=0.000000, age=21.998955, beached=0.000000, unbeachCount=0.000000, time=3801600.000000)\n",
       "P[282](lon=128.013336, lat=26.496281, depth=0.000000, age=21.998955, beached=0.000000, unbeachCount=0.000000, time=3801600.000000)\n",
       "P[283](lon=202.100006, lat=21.430000, depth=0.000000, age=21.998955, beached=0.000000, unbeachCount=0.000000, time=3801600.000000)\n",
       "P[284](lon=204.399994, lat=19.475000, depth=0.000000, age=21.998955, beached=0.000000, unbeachCount=0.000000, time=3801600.000000)\n",
       "P[285](lon=194.481857, lat=24.839949, depth=0.000000, age=21.998955, beached=0.000000, unbeachCount=0.000000, time=3801600.000000)\n",
       "P[286](lon=184.229797, lat=15.389165, depth=0.000000, age=21.998955, beached=0.000000, unbeachCount=0.000000, time=3801600.000000)\n",
       "P[287](lon=165.950928, lat=20.448160, depth=0.000000, age=21.998955, beached=0.000000, unbeachCount=0.000000, time=3801600.000000)\n",
       "P[288](lon=144.663315, lat=13.457946, depth=0.000000, age=20.999199, beached=0.000000, unbeachCount=0.000000, time=3801600.000000)\n",
       "P[289](lon=144.191101, lat=15.678434, depth=0.000000, age=20.999199, beached=0.000000, unbeachCount=0.000000, time=3801600.000000)\n",
       "P[290](lon=175.850418, lat=7.263875, depth=0.000000, age=20.999199, beached=0.000000, unbeachCount=0.000000, time=3801600.000000)\n",
       "P[291](lon=161.660980, lat=12.457135, depth=0.000000, age=20.999199, beached=0.000000, unbeachCount=0.000000, time=3801600.000000)\n",
       "P[292](lon=201.405991, lat=5.343357, depth=0.000000, age=20.999199, beached=0.000000, unbeachCount=0.000000, time=3801600.000000)\n",
       "P[293](lon=158.240005, lat=6.875000, depth=0.000000, age=20.999199, beached=0.000000, unbeachCount=0.000000, time=3801600.000000)\n",
       "P[294](lon=128.213257, lat=26.614559, depth=0.000000, age=20.999199, beached=0.000000, unbeachCount=0.000000, time=3801600.000000)\n",
       "P[295](lon=202.100006, lat=21.430000, depth=0.000000, age=20.999199, beached=0.000000, unbeachCount=0.000000, time=3801600.000000)\n",
       "P[296](lon=204.399994, lat=19.475000, depth=0.000000, age=20.999199, beached=0.000000, unbeachCount=0.000000, time=3801600.000000)\n",
       "P[297](lon=194.357666, lat=23.237919, depth=0.000000, age=20.999199, beached=0.000000, unbeachCount=0.000000, time=3801600.000000)\n",
       "P[298](lon=185.242981, lat=15.230540, depth=0.000000, age=20.999199, beached=0.000000, unbeachCount=0.000000, time=3801600.000000)\n",
       "P[299](lon=166.356415, lat=19.869678, depth=0.000000, age=20.999199, beached=0.000000, unbeachCount=0.000000, time=3801600.000000)\n",
       "P[300](lon=144.566895, lat=13.476787, depth=0.000000, age=19.999443, beached=0.000000, unbeachCount=0.000000, time=3801600.000000)\n",
       "P[301](lon=143.672531, lat=15.454942, depth=0.000000, age=19.999443, beached=0.000000, unbeachCount=0.000000, time=3801600.000000)\n",
       "P[302](lon=175.477707, lat=8.408132, depth=0.000000, age=19.999443, beached=0.000000, unbeachCount=0.000000, time=3801600.000000)\n",
       "P[303](lon=161.504089, lat=12.814734, depth=0.000000, age=19.999443, beached=0.000000, unbeachCount=0.000000, time=3801600.000000)\n",
       "P[304](lon=202.317322, lat=5.059287, depth=0.000000, age=19.999443, beached=0.000000, unbeachCount=0.000000, time=3801600.000000)\n",
       "P[305](lon=158.240005, lat=6.875000, depth=0.000000, age=19.999443, beached=0.000000, unbeachCount=0.000000, time=3801600.000000)\n",
       "P[306](lon=130.386169, lat=26.740158, depth=0.000000, age=19.999443, beached=0.000000, unbeachCount=0.000000, time=3801600.000000)\n",
       "P[307](lon=202.100006, lat=21.430000, depth=0.000000, age=19.999443, beached=0.000000, unbeachCount=0.000000, time=3801600.000000)\n",
       "P[308](lon=204.399994, lat=19.475000, depth=0.000000, age=19.999443, beached=0.000000, unbeachCount=0.000000, time=3801600.000000)\n",
       "P[309](lon=194.293045, lat=23.202473, depth=0.000000, age=19.999443, beached=0.000000, unbeachCount=0.000000, time=3801600.000000)\n",
       "P[310](lon=189.948029, lat=19.067778, depth=0.000000, age=19.999443, beached=0.000000, unbeachCount=0.000000, time=3801600.000000)\n",
       "P[311](lon=166.824936, lat=19.502768, depth=0.000000, age=19.999443, beached=0.000000, unbeachCount=0.000000, time=3801600.000000)\n",
       "P[312](lon=144.473648, lat=13.470005, depth=0.000000, age=18.999687, beached=0.000000, unbeachCount=0.000000, time=3801600.000000)\n",
       "P[313](lon=144.069138, lat=14.373134, depth=0.000000, age=18.999687, beached=0.000000, unbeachCount=0.000000, time=3801600.000000)\n",
       "P[314](lon=175.631012, lat=7.621031, depth=0.000000, age=18.999687, beached=0.000000, unbeachCount=0.000000, time=3801600.000000)\n",
       "P[315](lon=161.524063, lat=13.023437, depth=0.000000, age=18.999687, beached=0.000000, unbeachCount=0.000000, time=3801600.000000)\n",
       "P[316](lon=201.586792, lat=4.225773, depth=0.000000, age=18.999687, beached=0.000000, unbeachCount=0.000000, time=3801600.000000)\n",
       "P[317](lon=158.240005, lat=6.875000, depth=0.000000, age=18.999687, beached=0.000000, unbeachCount=0.000000, time=3801600.000000)\n",
       "P[318](lon=129.077759, lat=26.648142, depth=0.000000, age=18.999687, beached=0.000000, unbeachCount=0.000000, time=3801600.000000)\n",
       "P[319](lon=202.100006, lat=21.430000, depth=0.000000, age=18.999687, beached=0.000000, unbeachCount=0.000000, time=3801600.000000)\n",
       "P[320](lon=204.399994, lat=19.475000, depth=0.000000, age=18.999687, beached=0.000000, unbeachCount=0.000000, time=3801600.000000)\n",
       "P[321](lon=194.371246, lat=23.248373, depth=0.000000, age=18.999687, beached=0.000000, unbeachCount=0.000000, time=3801600.000000)\n",
       "P[322](lon=192.034195, lat=17.579546, depth=0.000000, age=18.999687, beached=0.000000, unbeachCount=0.000000, time=3801600.000000)\n",
       "P[323](lon=166.778030, lat=19.452147, depth=0.000000, age=18.999687, beached=0.000000, unbeachCount=0.000000, time=3801600.000000)\n",
       "P[324](lon=144.445175, lat=13.462599, depth=0.000000, age=17.999931, beached=0.000000, unbeachCount=0.000000, time=3801600.000000)\n",
       "P[325](lon=144.484818, lat=14.584131, depth=0.000000, age=17.999931, beached=0.000000, unbeachCount=0.000000, time=3801600.000000)\n",
       "P[326](lon=175.572495, lat=7.511195, depth=0.000000, age=17.999931, beached=0.000000, unbeachCount=0.000000, time=3801600.000000)\n",
       "P[327](lon=161.899460, lat=11.103808, depth=0.000000, age=17.999931, beached=0.000000, unbeachCount=0.000000, time=3801600.000000)\n",
       "P[328](lon=200.167236, lat=3.165254, depth=0.000000, age=17.999931, beached=0.000000, unbeachCount=0.000000, time=3801600.000000)\n",
       "P[329](lon=158.240005, lat=6.875000, depth=0.000000, age=17.999931, beached=0.000000, unbeachCount=0.000000, time=3801600.000000)\n",
       "P[330](lon=127.929413, lat=26.396526, depth=0.000000, age=17.999931, beached=0.000000, unbeachCount=0.000000, time=3801600.000000)\n",
       "P[331](lon=202.100006, lat=21.430000, depth=0.000000, age=17.999931, beached=0.000000, unbeachCount=0.000000, time=3801600.000000)\n",
       "P[332](lon=204.399994, lat=19.475000, depth=0.000000, age=17.999931, beached=0.000000, unbeachCount=0.000000, time=3801600.000000)\n",
       "P[333](lon=194.394012, lat=23.290600, depth=0.000000, age=17.999931, beached=0.000000, unbeachCount=0.000000, time=3801600.000000)\n",
       "P[334](lon=192.121262, lat=18.949362, depth=0.000000, age=17.999931, beached=0.000000, unbeachCount=0.000000, time=3801600.000000)\n",
       "P[335](lon=166.781204, lat=19.451380, depth=0.000000, age=17.999931, beached=0.000000, unbeachCount=0.000000, time=3801600.000000)\n",
       "P[336](lon=144.441803, lat=13.461731, depth=0.000000, age=17.000175, beached=0.000000, unbeachCount=0.000000, time=3801600.000000)\n",
       "P[337](lon=145.450150, lat=15.217227, depth=0.000000, age=17.000175, beached=0.000000, unbeachCount=0.000000, time=3801600.000000)\n",
       "P[338](lon=175.640945, lat=7.386467, depth=0.000000, age=17.000175, beached=0.000000, unbeachCount=0.000000, time=3801600.000000)\n",
       "P[339](lon=163.644119, lat=12.266724, depth=0.000000, age=17.000175, beached=0.000000, unbeachCount=0.000000, time=3801600.000000)\n",
       "P[340](lon=199.685776, lat=3.249727, depth=0.000000, age=17.000175, beached=0.000000, unbeachCount=0.000000, time=3801600.000000)\n",
       "P[341](lon=158.240005, lat=6.875000, depth=0.000000, age=17.000175, beached=0.000000, unbeachCount=0.000000, time=3801600.000000)\n",
       "P[342](lon=127.933586, lat=26.410288, depth=0.000000, age=17.000175, beached=0.000000, unbeachCount=0.000000, time=3801600.000000)\n",
       "P[343](lon=202.100006, lat=21.430000, depth=0.000000, age=17.000175, beached=0.000000, unbeachCount=0.000000, time=3801600.000000)\n",
       "P[344](lon=204.399994, lat=19.475000, depth=0.000000, age=17.000175, beached=0.000000, unbeachCount=0.000000, time=3801600.000000)\n",
       "P[345](lon=194.442780, lat=23.326082, depth=0.000000, age=17.000175, beached=0.000000, unbeachCount=0.000000, time=3801600.000000)\n",
       "P[346](lon=192.458694, lat=17.212523, depth=0.000000, age=17.000175, beached=0.000000, unbeachCount=0.000000, time=3801600.000000)\n",
       "P[347](lon=166.762924, lat=19.445200, depth=0.000000, age=17.000175, beached=0.000000, unbeachCount=0.000000, time=3801600.000000)\n",
       "P[348](lon=144.511078, lat=13.477247, depth=0.000000, age=16.000420, beached=0.000000, unbeachCount=0.000000, time=3801600.000000)\n",
       "P[349](lon=145.451996, lat=15.147546, depth=0.000000, age=16.000420, beached=0.000000, unbeachCount=0.000000, time=3801600.000000)\n",
       "P[350](lon=171.626144, lat=7.033127, depth=0.000000, age=16.000420, beached=0.000000, unbeachCount=0.000000, time=3801600.000000)\n",
       "P[351](lon=164.391052, lat=12.644751, depth=0.000000, age=16.000420, beached=0.000000, unbeachCount=0.000000, time=3801600.000000)\n",
       "P[352](lon=199.653305, lat=3.085320, depth=0.000000, age=16.000420, beached=0.000000, unbeachCount=0.000000, time=3801600.000000)\n",
       "P[353](lon=158.240005, lat=6.875000, depth=0.000000, age=16.000420, beached=0.000000, unbeachCount=0.000000, time=3801600.000000)\n",
       "P[354](lon=127.934761, lat=26.398214, depth=0.000000, age=16.000420, beached=0.000000, unbeachCount=0.000000, time=3801600.000000)\n",
       "P[355](lon=202.100006, lat=21.430000, depth=0.000000, age=16.000420, beached=0.000000, unbeachCount=0.000000, time=3801600.000000)\n",
       "P[356](lon=204.399994, lat=19.475000, depth=0.000000, age=16.000420, beached=0.000000, unbeachCount=0.000000, time=3801600.000000)\n",
       "P[357](lon=194.344482, lat=23.226131, depth=0.000000, age=16.000420, beached=0.000000, unbeachCount=0.000000, time=3801600.000000)\n",
       "P[358](lon=191.384674, lat=17.151339, depth=0.000000, age=16.000420, beached=0.000000, unbeachCount=0.000000, time=3801600.000000)\n",
       "P[359](lon=166.755966, lat=19.442217, depth=0.000000, age=16.000420, beached=0.000000, unbeachCount=0.000000, time=3801600.000000)\n",
       "P[360](lon=144.688416, lat=13.458078, depth=0.000000, age=15.000390, beached=0.000000, unbeachCount=0.000000, time=3801600.000000)\n",
       "P[361](lon=145.438202, lat=15.129958, depth=0.000000, age=15.000390, beached=0.000000, unbeachCount=0.000000, time=3801600.000000)\n",
       "P[362](lon=173.490829, lat=6.815228, depth=0.000000, age=15.000390, beached=0.000000, unbeachCount=0.000000, time=3801600.000000)\n",
       "P[363](lon=164.625137, lat=12.926742, depth=0.000000, age=15.000390, beached=0.000000, unbeachCount=0.000000, time=3801600.000000)\n",
       "P[364](lon=199.718842, lat=3.316956, depth=0.000000, age=15.000390, beached=0.000000, unbeachCount=0.000000, time=3801600.000000)\n",
       "P[365](lon=158.240005, lat=6.875000, depth=0.000000, age=15.000390, beached=0.000000, unbeachCount=0.000000, time=3801600.000000)\n",
       "P[366](lon=127.935341, lat=26.381233, depth=0.000000, age=15.000390, beached=0.000000, unbeachCount=0.000000, time=3801600.000000)\n",
       "P[367](lon=202.100006, lat=21.430000, depth=0.000000, age=15.000390, beached=0.000000, unbeachCount=0.000000, time=3801600.000000)\n",
       "P[368](lon=204.399994, lat=19.475000, depth=0.000000, age=15.000390, beached=0.000000, unbeachCount=0.000000, time=3801600.000000)\n",
       "P[369](lon=194.418304, lat=23.296911, depth=0.000000, age=15.000390, beached=0.000000, unbeachCount=0.000000, time=3801600.000000)\n",
       "P[370](lon=189.747726, lat=18.558317, depth=0.000000, age=15.000390, beached=0.000000, unbeachCount=0.000000, time=3801600.000000)\n",
       "P[371](lon=166.744781, lat=19.438669, depth=0.000000, age=15.000390, beached=0.000000, unbeachCount=0.000000, time=3801600.000000)\n",
       "P[372](lon=144.711868, lat=13.454654, depth=0.000000, age=14.000360, beached=0.000000, unbeachCount=0.000000, time=3801600.000000)\n",
       "P[373](lon=145.433167, lat=15.124281, depth=0.000000, age=14.000360, beached=0.000000, unbeachCount=0.000000, time=3801600.000000)\n",
       "P[374](lon=174.236725, lat=7.661066, depth=0.000000, age=14.000360, beached=0.000000, unbeachCount=0.000000, time=3801600.000000)\n",
       "P[375](lon=164.634399, lat=13.041137, depth=0.000000, age=14.000360, beached=0.000000, unbeachCount=0.000000, time=3801600.000000)\n",
       "P[376](lon=199.708176, lat=3.350803, depth=0.000000, age=14.000360, beached=0.000000, unbeachCount=0.000000, time=3801600.000000)\n",
       "P[377](lon=158.240005, lat=6.875000, depth=0.000000, age=14.000360, beached=0.000000, unbeachCount=0.000000, time=3801600.000000)\n",
       "P[378](lon=127.943130, lat=26.383495, depth=0.000000, age=14.000360, beached=0.000000, unbeachCount=0.000000, time=3801600.000000)\n",
       "P[379](lon=202.100006, lat=21.430000, depth=0.000000, age=14.000360, beached=0.000000, unbeachCount=0.000000, time=3801600.000000)\n",
       "P[380](lon=204.399994, lat=19.475000, depth=0.000000, age=14.000360, beached=0.000000, unbeachCount=0.000000, time=3801600.000000)\n",
       "P[381](lon=194.523132, lat=23.355598, depth=0.000000, age=14.000360, beached=0.000000, unbeachCount=0.000000, time=3801600.000000)\n",
       "P[382](lon=189.603195, lat=18.583878, depth=0.000000, age=14.000360, beached=0.000000, unbeachCount=0.000000, time=3801600.000000)\n",
       "P[383](lon=166.738068, lat=19.435280, depth=0.000000, age=14.000360, beached=0.000000, unbeachCount=0.000000, time=3801600.000000)\n",
       "P[384](lon=144.707947, lat=13.454955, depth=0.000000, age=13.000329, beached=0.000000, unbeachCount=0.000000, time=3801600.000000)\n",
       "P[385](lon=145.379135, lat=15.076186, depth=0.000000, age=13.000329, beached=0.000000, unbeachCount=0.000000, time=3801600.000000)\n",
       "P[386](lon=172.744522, lat=6.651441, depth=0.000000, age=13.000329, beached=0.000000, unbeachCount=0.000000, time=3801600.000000)\n",
       "P[387](lon=164.742371, lat=13.250473, depth=0.000000, age=13.000329, beached=0.000000, unbeachCount=0.000000, time=3801600.000000)\n",
       "P[388](lon=199.474304, lat=3.124420, depth=0.000000, age=13.000329, beached=0.000000, unbeachCount=0.000000, time=3801600.000000)\n",
       "P[389](lon=158.240005, lat=6.875000, depth=0.000000, age=13.000329, beached=0.000000, unbeachCount=0.000000, time=3801600.000000)\n",
       "P[390](lon=127.982719, lat=26.483833, depth=0.000000, age=13.000329, beached=0.000000, unbeachCount=0.000000, time=3801600.000000)\n",
       "P[391](lon=202.100006, lat=21.430000, depth=0.000000, age=13.000329, beached=0.000000, unbeachCount=0.000000, time=3801600.000000)\n",
       "P[392](lon=204.399994, lat=19.475000, depth=0.000000, age=13.000329, beached=0.000000, unbeachCount=0.000000, time=3801600.000000)\n",
       "P[393](lon=194.550156, lat=23.355686, depth=0.000000, age=13.000329, beached=0.000000, unbeachCount=0.000000, time=3801600.000000)\n",
       "P[394](lon=189.254715, lat=18.511108, depth=0.000000, age=13.000329, beached=0.000000, unbeachCount=0.000000, time=3801600.000000)\n",
       "P[395](lon=166.826874, lat=19.498274, depth=0.000000, age=13.000329, beached=0.000000, unbeachCount=0.000000, time=3801600.000000)\n",
       "P[396](lon=144.711685, lat=13.454617, depth=0.000000, age=12.000299, beached=0.000000, unbeachCount=0.000000, time=3801600.000000)\n",
       "P[397](lon=145.400833, lat=15.090699, depth=0.000000, age=12.000299, beached=0.000000, unbeachCount=0.000000, time=3801600.000000)\n",
       "P[398](lon=171.647629, lat=6.959054, depth=0.000000, age=12.000299, beached=0.000000, unbeachCount=0.000000, time=3801600.000000)\n",
       "P[399](lon=164.826691, lat=13.145803, depth=0.000000, age=12.000299, beached=0.000000, unbeachCount=0.000000, time=3801600.000000)\n",
       "P[400](lon=199.424667, lat=3.190521, depth=0.000000, age=12.000299, beached=0.000000, unbeachCount=0.000000, time=3801600.000000)\n",
       "P[401](lon=158.240005, lat=6.875000, depth=0.000000, age=12.000299, beached=0.000000, unbeachCount=0.000000, time=3801600.000000)\n",
       "P[402](lon=128.015335, lat=26.530937, depth=0.000000, age=12.000299, beached=0.000000, unbeachCount=0.000000, time=3801600.000000)\n",
       "P[403](lon=202.100006, lat=21.430000, depth=0.000000, age=12.000299, beached=0.000000, unbeachCount=0.000000, time=3801600.000000)\n",
       "P[404](lon=204.399994, lat=19.475000, depth=0.000000, age=12.000299, beached=0.000000, unbeachCount=0.000000, time=3801600.000000)\n",
       "P[405](lon=194.552658, lat=23.344076, depth=0.000000, age=12.000299, beached=0.000000, unbeachCount=0.000000, time=3801600.000000)\n",
       "P[406](lon=189.778671, lat=18.345179, depth=0.000000, age=12.000299, beached=0.000000, unbeachCount=0.000000, time=3801600.000000)\n",
       "P[407](lon=166.811523, lat=19.475933, depth=0.000000, age=12.000299, beached=0.000000, unbeachCount=0.000000, time=3801600.000000)\n",
       "P[408](lon=144.729492, lat=13.454209, depth=0.000000, age=11.000268, beached=0.000000, unbeachCount=0.000000, time=3801600.000000)\n",
       "P[409](lon=145.422440, lat=15.239981, depth=0.000000, age=11.000268, beached=0.000000, unbeachCount=0.000000, time=3801600.000000)\n",
       "P[410](lon=172.074112, lat=6.812361, depth=0.000000, age=11.000268, beached=0.000000, unbeachCount=0.000000, time=3801600.000000)\n",
       "P[411](lon=164.249100, lat=12.038872, depth=0.000000, age=11.000268, beached=0.000000, unbeachCount=0.000000, time=3801600.000000)\n",
       "P[412](lon=199.417679, lat=3.160347, depth=0.000000, age=11.000268, beached=0.000000, unbeachCount=0.000000, time=3801600.000000)\n",
       "P[413](lon=158.240005, lat=6.875000, depth=0.000000, age=11.000268, beached=0.000000, unbeachCount=0.000000, time=3801600.000000)\n",
       "P[414](lon=128.026154, lat=26.537085, depth=0.000000, age=11.000268, beached=0.000000, unbeachCount=0.000000, time=3801600.000000)\n",
       "P[415](lon=202.100006, lat=21.430000, depth=0.000000, age=11.000268, beached=0.000000, unbeachCount=0.000000, time=3801600.000000)\n",
       "P[416](lon=204.399994, lat=19.475000, depth=0.000000, age=11.000268, beached=0.000000, unbeachCount=0.000000, time=3801600.000000)\n",
       "P[417](lon=194.538834, lat=23.345440, depth=0.000000, age=11.000268, beached=0.000000, unbeachCount=0.000000, time=3801600.000000)\n",
       "P[418](lon=189.736954, lat=18.091038, depth=0.000000, age=11.000268, beached=0.000000, unbeachCount=0.000000, time=3801600.000000)\n",
       "P[419](lon=166.821472, lat=19.489429, depth=0.000000, age=11.000268, beached=0.000000, unbeachCount=0.000000, time=3801600.000000)\n",
       "P[420](lon=144.751099, lat=13.455841, depth=0.000000, age=10.000237, beached=0.000000, unbeachCount=0.000000, time=3801600.000000)\n",
       "P[421](lon=145.189392, lat=15.172539, depth=0.000000, age=10.000237, beached=0.000000, unbeachCount=0.000000, time=3801600.000000)\n",
       "P[422](lon=172.100204, lat=6.794527, depth=0.000000, age=10.000237, beached=0.000000, unbeachCount=0.000000, time=3801600.000000)\n",
       "P[423](lon=164.269516, lat=11.682986, depth=0.000000, age=10.000237, beached=0.000000, unbeachCount=0.000000, time=3801600.000000)\n",
       "P[424](lon=199.312851, lat=2.516751, depth=0.000000, age=10.000237, beached=0.000000, unbeachCount=0.000000, time=3801600.000000)\n",
       "P[425](lon=158.240005, lat=6.875000, depth=0.000000, age=10.000237, beached=0.000000, unbeachCount=0.000000, time=3801600.000000)\n",
       "P[426](lon=128.027893, lat=26.536457, depth=0.000000, age=10.000237, beached=0.000000, unbeachCount=0.000000, time=3801600.000000)\n",
       "P[427](lon=202.100006, lat=21.430000, depth=0.000000, age=10.000237, beached=0.000000, unbeachCount=0.000000, time=3801600.000000)\n",
       "P[428](lon=204.399994, lat=19.475000, depth=0.000000, age=10.000237, beached=0.000000, unbeachCount=0.000000, time=3801600.000000)\n",
       "P[429](lon=194.486542, lat=23.343094, depth=0.000000, age=10.000237, beached=0.000000, unbeachCount=0.000000, time=3801600.000000)\n",
       "P[430](lon=189.399841, lat=17.746498, depth=0.000000, age=10.000237, beached=0.000000, unbeachCount=0.000000, time=3801600.000000)\n",
       "P[431](lon=166.890900, lat=19.615339, depth=0.000000, age=10.000237, beached=0.000000, unbeachCount=0.000000, time=3801600.000000)\n",
       "P[432](lon=144.753998, lat=13.457473, depth=0.000000, age=9.000207, beached=0.000000, unbeachCount=0.000000, time=3801600.000000)\n",
       "P[433](lon=145.146103, lat=15.233375, depth=0.000000, age=9.000207, beached=0.000000, unbeachCount=0.000000, time=3801600.000000)\n",
       "P[434](lon=172.259735, lat=6.714914, depth=0.000000, age=9.000207, beached=0.000000, unbeachCount=0.000000, time=3801600.000000)\n",
       "P[435](lon=164.972809, lat=11.783040, depth=0.000000, age=9.000207, beached=0.000000, unbeachCount=0.000000, time=3801600.000000)\n",
       "P[436](lon=199.389160, lat=2.076289, depth=0.000000, age=9.000207, beached=0.000000, unbeachCount=0.000000, time=3801600.000000)\n",
       "P[437](lon=158.240005, lat=6.875000, depth=0.000000, age=9.000207, beached=0.000000, unbeachCount=0.000000, time=3801600.000000)\n",
       "P[438](lon=128.031128, lat=26.537344, depth=0.000000, age=9.000207, beached=0.000000, unbeachCount=0.000000, time=3801600.000000)\n",
       "P[439](lon=202.100006, lat=21.430000, depth=0.000000, age=9.000207, beached=0.000000, unbeachCount=0.000000, time=3801600.000000)\n",
       "P[440](lon=204.399994, lat=19.475000, depth=0.000000, age=9.000207, beached=0.000000, unbeachCount=0.000000, time=3801600.000000)\n",
       "P[441](lon=194.362488, lat=23.316555, depth=0.000000, age=9.000207, beached=0.000000, unbeachCount=0.000000, time=3801600.000000)\n",
       "P[442](lon=190.146622, lat=17.458954, depth=0.000000, age=9.000207, beached=0.000000, unbeachCount=0.000000, time=3801600.000000)\n",
       "P[443](lon=166.849396, lat=19.534571, depth=0.000000, age=9.000207, beached=0.000000, unbeachCount=0.000000, time=3801600.000000)\n",
       "P[444](lon=144.765015, lat=13.458288, depth=0.000000, age=8.000176, beached=0.000000, unbeachCount=0.000000, time=3801600.000000)\n",
       "P[445](lon=145.654114, lat=15.333558, depth=0.000000, age=8.000176, beached=0.000000, unbeachCount=0.000000, time=3801600.000000)\n",
       "P[446](lon=171.458084, lat=6.936954, depth=0.000000, age=8.000176, beached=0.000000, unbeachCount=0.000000, time=3801600.000000)\n",
       "P[447](lon=165.819458, lat=11.855165, depth=0.000000, age=8.000176, beached=0.000000, unbeachCount=0.000000, time=3801600.000000)\n",
       "P[448](lon=199.649017, lat=1.946876, depth=0.000000, age=8.000176, beached=0.000000, unbeachCount=0.000000, time=3801600.000000)\n",
       "P[449](lon=158.240005, lat=6.875000, depth=0.000000, age=8.000176, beached=0.000000, unbeachCount=0.000000, time=3801600.000000)\n",
       "P[450](lon=128.006424, lat=26.505901, depth=0.000000, age=8.000176, beached=0.000000, unbeachCount=0.000000, time=3801600.000000)\n",
       "P[451](lon=202.100006, lat=21.430000, depth=0.000000, age=8.000176, beached=0.000000, unbeachCount=0.000000, time=3801600.000000)\n",
       "P[452](lon=204.399994, lat=19.475000, depth=0.000000, age=8.000176, beached=0.000000, unbeachCount=0.000000, time=3801600.000000)\n",
       "P[453](lon=194.284470, lat=23.557119, depth=0.000000, age=8.000176, beached=0.000000, unbeachCount=0.000000, time=3801600.000000)\n",
       "P[454](lon=190.070755, lat=18.255789, depth=0.000000, age=8.000176, beached=0.000000, unbeachCount=0.000000, time=3801600.000000)\n",
       "P[455](lon=166.730957, lat=19.429935, depth=0.000000, age=8.000176, beached=0.000000, unbeachCount=0.000000, time=3801600.000000)\n",
       "P[456](lon=144.774872, lat=13.457762, depth=0.000000, age=7.000146, beached=0.000000, unbeachCount=0.000000, time=3801600.000000)\n",
       "P[457](lon=145.711899, lat=15.219500, depth=0.000000, age=7.000146, beached=0.000000, unbeachCount=0.000000, time=3801600.000000)\n",
       "P[458](lon=171.324890, lat=7.085941, depth=0.000000, age=7.000146, beached=0.000000, unbeachCount=0.000000, time=3801600.000000)\n",
       "P[459](lon=166.075546, lat=11.560662, depth=0.000000, age=7.000146, beached=0.000000, unbeachCount=0.000000, time=3801600.000000)\n",
       "P[460](lon=200.007263, lat=2.220659, depth=0.000000, age=7.000146, beached=0.000000, unbeachCount=0.000000, time=3801600.000000)\n",
       "P[461](lon=158.240005, lat=6.875000, depth=0.000000, age=7.000146, beached=0.000000, unbeachCount=0.000000, time=3801600.000000)\n",
       "P[462](lon=127.985435, lat=26.462616, depth=0.000000, age=7.000146, beached=0.000000, unbeachCount=0.000000, time=3801600.000000)\n",
       "P[463](lon=202.100006, lat=21.430000, depth=0.000000, age=7.000146, beached=0.000000, unbeachCount=0.000000, time=3801600.000000)\n",
       "P[464](lon=204.399994, lat=19.475000, depth=0.000000, age=7.000146, beached=0.000000, unbeachCount=0.000000, time=3801600.000000)\n",
       "P[465](lon=194.285812, lat=23.615580, depth=0.000000, age=7.000146, beached=0.000000, unbeachCount=0.000000, time=3801600.000000)\n",
       "P[466](lon=189.594208, lat=18.659000, depth=0.000000, age=7.000146, beached=0.000000, unbeachCount=0.000000, time=3801600.000000)\n",
       "P[467](lon=166.742218, lat=19.427267, depth=0.000000, age=7.000146, beached=0.000000, unbeachCount=0.000000, time=3801600.000000)\n",
       "P[468](lon=144.778519, lat=13.458278, depth=0.000000, age=6.000115, beached=0.000000, unbeachCount=0.000000, time=3801600.000000)\n",
       "P[469](lon=145.734726, lat=15.192126, depth=0.000000, age=6.000115, beached=0.000000, unbeachCount=0.000000, time=3801600.000000)\n",
       "P[470](lon=171.416092, lat=6.957235, depth=0.000000, age=6.000115, beached=0.000000, unbeachCount=0.000000, time=3801600.000000)\n",
       "P[471](lon=166.354416, lat=10.839457, depth=0.000000, age=6.000115, beached=0.000000, unbeachCount=0.000000, time=3801600.000000)\n",
       "P[472](lon=200.233612, lat=2.243147, depth=0.000000, age=6.000115, beached=0.000000, unbeachCount=0.000000, time=3801600.000000)\n",
       "P[473](lon=158.240005, lat=6.875000, depth=0.000000, age=6.000115, beached=0.000000, unbeachCount=0.000000, time=3801600.000000)\n",
       "P[474](lon=128.006409, lat=26.497610, depth=0.000000, age=6.000115, beached=0.000000, unbeachCount=0.000000, time=3801600.000000)\n",
       "P[475](lon=202.100006, lat=21.430000, depth=0.000000, age=6.000115, beached=0.000000, unbeachCount=0.000000, time=3801600.000000)\n",
       "P[476](lon=204.399994, lat=19.475000, depth=0.000000, age=6.000115, beached=0.000000, unbeachCount=0.000000, time=3801600.000000)\n",
       "P[477](lon=194.303101, lat=23.627150, depth=0.000000, age=6.000115, beached=0.000000, unbeachCount=0.000000, time=3801600.000000)\n",
       "P[478](lon=189.189407, lat=18.619690, depth=0.000000, age=6.000115, beached=0.000000, unbeachCount=0.000000, time=3801600.000000)\n",
       "P[479](lon=166.716309, lat=19.408873, depth=0.000000, age=6.000115, beached=0.000000, unbeachCount=0.000000, time=3801600.000000)\n",
       "P[480](lon=144.782867, lat=13.458255, depth=0.000000, age=5.000085, beached=0.000000, unbeachCount=0.000000, time=3801600.000000)\n",
       "P[481](lon=145.700180, lat=15.167023, depth=0.000000, age=5.000085, beached=0.000000, unbeachCount=0.000000, time=3801600.000000)\n",
       "P[482](lon=171.379578, lat=6.919104, depth=0.000000, age=5.000085, beached=0.000000, unbeachCount=0.000000, time=3801600.000000)\n",
       "P[483](lon=166.442200, lat=10.761506, depth=0.000000, age=5.000085, beached=0.000000, unbeachCount=0.000000, time=3801600.000000)\n",
       "P[484](lon=200.559479, lat=2.304497, depth=0.000000, age=5.000085, beached=0.000000, unbeachCount=0.000000, time=3801600.000000)\n",
       "P[485](lon=158.240005, lat=6.875000, depth=0.000000, age=5.000085, beached=0.000000, unbeachCount=0.000000, time=3801600.000000)\n",
       "P[486](lon=128.031769, lat=26.523857, depth=0.000000, age=5.000085, beached=0.000000, unbeachCount=0.000000, time=3801600.000000)\n",
       "P[487](lon=202.100006, lat=21.430000, depth=0.000000, age=5.000085, beached=0.000000, unbeachCount=0.000000, time=3801600.000000)\n",
       "P[488](lon=204.399994, lat=19.475000, depth=0.000000, age=5.000085, beached=0.000000, unbeachCount=0.000000, time=3801600.000000)\n",
       "P[489](lon=194.279099, lat=23.657089, depth=0.000000, age=5.000085, beached=0.000000, unbeachCount=0.000000, time=3801600.000000)\n",
       "P[490](lon=188.880356, lat=18.334808, depth=0.000000, age=5.000085, beached=0.000000, unbeachCount=0.000000, time=3801600.000000)\n",
       "P[491](lon=166.685654, lat=19.351389, depth=0.000000, age=5.000085, beached=0.000000, unbeachCount=0.000000, time=3801600.000000)\n",
       "P[492](lon=144.785080, lat=13.460602, depth=0.000000, age=4.000054, beached=0.000000, unbeachCount=0.000000, time=3801600.000000)\n",
       "P[493](lon=145.710495, lat=15.167426, depth=0.000000, age=4.000054, beached=0.000000, unbeachCount=0.000000, time=3801600.000000)\n",
       "P[494](lon=171.200226, lat=6.947234, depth=0.000000, age=4.000054, beached=0.000000, unbeachCount=0.000000, time=3801600.000000)\n",
       "P[495](lon=166.549957, lat=11.089334, depth=0.000000, age=4.000054, beached=0.000000, unbeachCount=0.000000, time=3801600.000000)\n",
       "P[496](lon=200.992935, lat=2.321651, depth=0.000000, age=4.000054, beached=0.000000, unbeachCount=0.000000, time=3801600.000000)\n",
       "P[497](lon=158.240005, lat=6.875000, depth=0.000000, age=4.000054, beached=0.000000, unbeachCount=0.000000, time=3801600.000000)\n",
       "P[498](lon=128.041672, lat=26.526342, depth=0.000000, age=4.000054, beached=0.000000, unbeachCount=0.000000, time=3801600.000000)\n",
       "P[499](lon=202.100006, lat=21.430000, depth=0.000000, age=4.000054, beached=0.000000, unbeachCount=0.000000, time=3801600.000000)\n",
       "P[500](lon=204.399994, lat=19.475000, depth=0.000000, age=4.000054, beached=0.000000, unbeachCount=0.000000, time=3801600.000000)\n",
       "P[501](lon=194.247925, lat=23.663033, depth=0.000000, age=4.000054, beached=0.000000, unbeachCount=0.000000, time=3801600.000000)\n",
       "P[502](lon=188.804230, lat=17.875240, depth=0.000000, age=4.000054, beached=0.000000, unbeachCount=0.000000, time=3801600.000000)\n",
       "P[503](lon=166.673615, lat=19.332809, depth=0.000000, age=4.000054, beached=0.000000, unbeachCount=0.000000, time=3801600.000000)\n",
       "P[504](lon=144.787125, lat=13.462790, depth=0.000000, age=3.000024, beached=0.000000, unbeachCount=0.000000, time=3801600.000000)\n",
       "P[505](lon=145.726074, lat=15.175562, depth=0.000000, age=3.000024, beached=0.000000, unbeachCount=0.000000, time=3801600.000000)\n",
       "P[506](lon=171.171021, lat=6.934212, depth=0.000000, age=3.000024, beached=0.000000, unbeachCount=0.000000, time=3801600.000000)\n",
       "P[507](lon=166.460724, lat=11.161605, depth=0.000000, age=3.000024, beached=0.000000, unbeachCount=0.000000, time=3801600.000000)\n",
       "P[508](lon=201.690903, lat=2.345068, depth=0.000000, age=3.000024, beached=0.000000, unbeachCount=0.000000, time=3801600.000000)\n",
       "P[509](lon=158.240005, lat=6.875000, depth=0.000000, age=3.000024, beached=0.000000, unbeachCount=0.000000, time=3801600.000000)\n",
       "P[510](lon=128.044449, lat=26.524536, depth=0.000000, age=3.000024, beached=0.000000, unbeachCount=0.000000, time=3801600.000000)\n",
       "P[511](lon=202.100006, lat=21.430000, depth=0.000000, age=3.000024, beached=0.000000, unbeachCount=0.000000, time=3801600.000000)\n",
       "P[512](lon=204.399994, lat=19.475000, depth=0.000000, age=3.000024, beached=0.000000, unbeachCount=0.000000, time=3801600.000000)\n",
       "P[513](lon=194.234970, lat=23.632912, depth=0.000000, age=3.000024, beached=0.000000, unbeachCount=0.000000, time=3801600.000000)\n",
       "P[514](lon=189.198395, lat=17.336903, depth=0.000000, age=3.000024, beached=0.000000, unbeachCount=0.000000, time=3801600.000000)\n",
       "P[515](lon=166.663635, lat=19.318184, depth=0.000000, age=3.000024, beached=0.000000, unbeachCount=0.000000, time=3801600.000000)\n",
       "P[516](lon=144.789536, lat=13.462866, depth=0.000000, age=1.999993, beached=0.000000, unbeachCount=0.000000, time=3801600.000000)\n",
       "P[517](lon=145.728546, lat=15.170392, depth=0.000000, age=1.999993, beached=0.000000, unbeachCount=0.000000, time=3801600.000000)\n",
       "P[518](lon=171.062439, lat=6.956663, depth=0.000000, age=1.999993, beached=0.000000, unbeachCount=0.000000, time=3801600.000000)\n",
       "P[519](lon=166.575592, lat=11.331519, depth=0.000000, age=1.999993, beached=0.000000, unbeachCount=0.000000, time=3801600.000000)\n",
       "P[520](lon=202.446732, lat=2.512501, depth=0.000000, age=1.999993, beached=0.000000, unbeachCount=0.000000, time=3801600.000000)\n",
       "P[521](lon=158.240005, lat=6.875000, depth=0.000000, age=1.999993, beached=0.000000, unbeachCount=0.000000, time=3801600.000000)\n",
       "P[522](lon=128.052689, lat=26.526665, depth=0.000000, age=1.999993, beached=0.000000, unbeachCount=0.000000, time=3801600.000000)\n",
       "P[523](lon=202.100006, lat=21.430000, depth=0.000000, age=1.999993, beached=0.000000, unbeachCount=0.000000, time=3801600.000000)\n",
       "P[524](lon=204.399994, lat=19.475000, depth=0.000000, age=1.999993, beached=0.000000, unbeachCount=0.000000, time=3801600.000000)\n",
       "P[525](lon=194.204498, lat=23.583517, depth=0.000000, age=1.999993, beached=0.000000, unbeachCount=0.000000, time=3801600.000000)\n",
       "P[526](lon=189.852859, lat=17.013418, depth=0.000000, age=1.999993, beached=0.000000, unbeachCount=0.000000, time=3801600.000000)\n",
       "P[527](lon=166.653763, lat=19.298649, depth=0.000000, age=1.999993, beached=0.000000, unbeachCount=0.000000, time=3801600.000000)\n",
       "P[528](lon=144.796356, lat=13.463440, depth=0.000000, age=0.999997, beached=0.000000, unbeachCount=0.000000, time=3801600.000000)\n",
       "P[529](lon=145.740143, lat=15.173453, depth=0.000000, age=0.999997, beached=0.000000, unbeachCount=0.000000, time=3801600.000000)\n",
       "P[530](lon=171.084671, lat=7.095051, depth=0.000000, age=0.999997, beached=0.000000, unbeachCount=0.000000, time=3801600.000000)\n",
       "P[531](lon=166.722610, lat=11.352114, depth=0.000000, age=0.999997, beached=0.000000, unbeachCount=0.000000, time=3801600.000000)\n",
       "P[532](lon=202.934616, lat=2.328553, depth=0.000000, age=0.999997, beached=0.000000, unbeachCount=0.000000, time=3801600.000000)\n",
       "P[533](lon=158.240005, lat=6.875000, depth=0.000000, age=0.999997, beached=0.000000, unbeachCount=0.000000, time=3801600.000000)\n",
       "P[534](lon=128.059891, lat=26.524597, depth=0.000000, age=0.999997, beached=0.000000, unbeachCount=0.000000, time=3801600.000000)\n",
       "P[535](lon=202.100006, lat=21.430000, depth=0.000000, age=0.999997, beached=0.000000, unbeachCount=0.000000, time=3801600.000000)\n",
       "P[536](lon=204.399994, lat=19.475000, depth=0.000000, age=0.999997, beached=0.000000, unbeachCount=0.000000, time=3801600.000000)\n",
       "P[537](lon=194.053131, lat=23.607588, depth=0.000000, age=0.999997, beached=0.000000, unbeachCount=0.000000, time=3801600.000000)\n",
       "P[538](lon=190.289871, lat=16.858896, depth=0.000000, age=0.999997, beached=0.000000, unbeachCount=0.000000, time=3801600.000000)\n",
       "P[539](lon=166.652557, lat=19.291279, depth=0.000000, age=0.999997, beached=0.000000, unbeachCount=0.000000, time=3801600.000000)\n",
       "P[540](lon=144.800186, lat=13.460263, depth=0.000000, age=0.000000, beached=0.000000, unbeachCount=0.000000, time=3801600.000000)\n",
       "P[541](lon=145.750000, lat=15.180676, depth=0.000000, age=0.000000, beached=0.000000, unbeachCount=0.000000, time=3801600.000000)\n",
       "P[542](lon=171.206772, lat=7.108230, depth=0.000000, age=0.000000, beached=0.000000, unbeachCount=0.000000, time=3801600.000000)\n",
       "P[543](lon=166.804672, lat=11.343302, depth=0.000000, age=0.000000, beached=0.000000, unbeachCount=0.000000, time=3801600.000000)\n",
       "P[544](lon=203.475418, lat=1.995744, depth=0.000000, age=0.000000, beached=0.000000, unbeachCount=0.000000, time=3801600.000000)\n",
       "P[545](lon=158.240005, lat=6.875000, depth=0.000000, age=0.000000, beached=0.000000, unbeachCount=0.000000, time=3801600.000000)\n",
       "P[546](lon=128.060181, lat=26.520321, depth=0.000000, age=0.000000, beached=0.000000, unbeachCount=0.000000, time=3801600.000000)\n",
       "P[547](lon=202.100006, lat=21.430000, depth=0.000000, age=0.000000, beached=0.000000, unbeachCount=0.000000, time=3801600.000000)\n",
       "P[548](lon=204.399994, lat=19.475000, depth=0.000000, age=0.000000, beached=0.000000, unbeachCount=0.000000, time=3801600.000000)\n",
       "P[549](lon=193.852921, lat=23.737591, depth=0.000000, age=0.000000, beached=0.000000, unbeachCount=0.000000, time=3801600.000000)\n",
       "P[550](lon=190.454819, lat=16.761662, depth=0.000000, age=0.000000, beached=0.000000, unbeachCount=0.000000, time=3801600.000000)\n",
       "P[551](lon=166.650177, lat=19.280413, depth=0.000000, age=0.000000, beached=0.000000, unbeachCount=0.000000, time=3801600.000000)"
      ]
     },
     "execution_count": 38,
     "metadata": {
      "tags": []
     },
     "output_type": "execute_result"
    }
   ],
   "source": [
    "pset"
   ]
  },
  {
   "cell_type": "code",
   "execution_count": null,
   "metadata": {
    "id": "KKNUISjmCHw9",
    "outputId": "34eb46ea-cce8-4472-f764-5d2fa5d8a45a"
   },
   "outputs": [
    {
     "data": {
      "image/png": "[encoded data removed]",
      "text/plain": [
       "<Figure size 432x288 with 1 Axes>"
      ]
     },
     "metadata": {
      "needs_background": "light",
      "tags": []
     },
     "output_type": "display_data"
    }
   ],
   "source": [
    "pset.show()"
   ]
  },
  {
   "cell_type": "markdown",
   "metadata": {
    "id": "SBO4PJIMCHw9"
   },
   "source": [
    "## Visualize the dispersal"
   ]
  },
  {
   "cell_type": "markdown",
   "metadata": {
    "id": "n_B6krLvCHw-"
   },
   "source": [
    "### Plot trajectories\n",
    "Plot the trajectories saved to the netcdf file `outfile` on a map. It's not going to be pretty, but it gives you an idea if the dispersal made sense or not. "
   ]
  },
  {
   "cell_type": "code",
   "execution_count": null,
   "metadata": {
    "id": "5ZJ9giZACHw-",
    "outputId": "d3c8577d-c0b7-4105-a74d-0e1d5cc91b0a"
   },
   "outputs": [
    {
     "data": {
      "image/png": "[encoded data removed]",
      "text/plain": [
       "<Figure size 432x288 with 1 Axes>"
      ]
     },
     "metadata": {
      "needs_background": "light",
      "tags": []
     },
     "output_type": "display_data"
    },
    {
     "data": {
      "text/plain": [
       "<module 'matplotlib.pyplot' from '/Users/johanna.wren/miniconda3/envs/py3_parcels/lib/python3.6/site-packages/matplotlib/pyplot.py'>"
      ]
     },
     "execution_count": 40,
     "metadata": {
      "tags": []
     },
     "output_type": "execute_result"
    }
   ],
   "source": [
    "plotTrajectoriesFile(outfile)"
   ]
  }
 ],
 "metadata": {
  "colab": {
   "name": "BasicParcelsScript.ipynb",
   "provenance": []
  },
  "kernelspec": {
   "display_name": "Python 3 (ipykernel)",
   "language": "python",
   "name": "python3"
  },
  "language_info": {
   "codemirror_mode": {
    "name": "ipython",
    "version": 3
   },
   "file_extension": ".py",
   "mimetype": "text/x-python",
   "name": "python",
   "nbconvert_exporter": "python",
   "pygments_lexer": "ipython3",
   "version": "3.9.13"
  }
 },
 "nbformat": 4,
 "nbformat_minor": 1
}
