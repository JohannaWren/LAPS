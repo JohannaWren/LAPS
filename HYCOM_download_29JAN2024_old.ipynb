{
 "cells": [
  {
   "cell_type": "markdown",
   "id": "5c518944",
   "metadata": {},
   "source": [
    "# Download HYCOM files for the LAPS project"
   ]
  },
  {
   "cell_type": "markdown",
   "id": "b0d5a5f3",
   "metadata": {},
   "source": [
    "Author: Johanna Wren\n",
    "\n",
    "email: johanna.wren@noaa.gov\n",
    "\n",
    "Date: January 29, 2024"
   ]
  },
  {
   "cell_type": "markdown",
   "id": "38e70c68",
   "metadata": {},
   "source": [
    "## Description\n",
    "\n",
    "This code accesses HYCOM files through opendap, subsets the area, and saves the u and v velocity to a file as 3-hourly files"
   ]
  },
  {
   "cell_type": "markdown",
   "id": "b9d14e7c",
   "metadata": {},
   "source": [
    "## Import libraries"
   ]
  },
  {
   "cell_type": "code",
   "execution_count": 2,
   "id": "a88b4fd2",
   "metadata": {},
   "outputs": [],
   "source": [
    "import pandas as pd\n",
    "import xarray as xr"
   ]
  },
  {
   "cell_type": "markdown",
   "id": "91260802",
   "metadata": {},
   "source": [
    "## Read in the HYCOM dataset\n",
    "Subset the 10 and 20 meter depth layers and one time slice. The time decoding throws errors so I set the `decode_times` flag to False when reading in the file. \n",
    "\n",
    "The `assign_coords` function here changes the longitude from -180/180 to 0-360 so we won't have a cut down the dateline. "
   ]
  },
  {
   "cell_type": "code",
   "execution_count": null,
   "id": "64a7d8c0",
   "metadata": {},
   "outputs": [],
   "source": [
    "# Read in the file through opendap\n",
    "hycom = xr.open_dataset(\"https://tds.hycom.org/thredds/dodsC/GLBv0.08/expt_53.X/data/1994\", decode_times=False)\n",
    "# Select the 10 and 20 meter deph layer and only variables water_u and water_v\n",
    "# I have manually set the time here, but ideally this would be done in a loop. \n",
    "hy = hycom.sel(depth=[10,20], time=-52572)[['water_u', 'water_v']]\n",
    "# Change longitude from -180/180 to 0-360, then sort the data by lon to get a continuous axis\n",
    "hy360 = hy.assign_coords({\"lon\": (hy.lon % 360)}).sortby(hy.lon)\n",
    "hy360"
   ]
  },
  {
   "cell_type": "code",
   "execution_count": null,
   "id": "ee59138c",
   "metadata": {},
   "outputs": [],
   "source": [
    "time[0:3]"
   ]
  },
  {
   "cell_type": "markdown",
   "id": "45cecd46",
   "metadata": {},
   "source": [
    "Subset spatially"
   ]
  },
  {
   "cell_type": "code",
   "execution_count": null,
   "id": "68dee7d5",
   "metadata": {},
   "outputs": [],
   "source": [
    "# Set your spatial extent\n",
    "min_lat=-5\n",
    "max_lat=50\n",
    "min_lon=120\n",
    "max_lon=230"
   ]
  },
  {
   "cell_type": "code",
   "execution_count": null,
   "id": "c3e66a73",
   "metadata": {},
   "outputs": [],
   "source": [
    "# Subset the data spatially\n",
    "hy360_sub = hy360.sel(lat=slice(min_lat,max_lat), lon=slice(min_lon,max_lon))\n",
    "hy360_sub"
   ]
  },
  {
   "cell_type": "code",
   "execution_count": null,
   "id": "0215785a",
   "metadata": {},
   "outputs": [],
   "source": [
    "# Test to see if we the data looks right\n",
    "#hy360_sub.water_v.sel(depth=20).plot()"
   ]
  },
  {
   "cell_type": "markdown",
   "id": "d23e1305",
   "metadata": {},
   "source": [
    "## Save data\n",
    "Saving as individual 3-hourly files"
   ]
  },
  {
   "cell_type": "code",
   "execution_count": null,
   "id": "ae2e77e7",
   "metadata": {},
   "outputs": [],
   "source": [
    "hy360_sub.to_netcdf(path='/Users/jwren/Desktop/HYCOM_py_test.nc')\n"
   ]
  },
  {
   "cell_type": "markdown",
   "id": "82677a84",
   "metadata": {},
   "source": [
    "# LOOP \n",
    "This code is identical to the above code but it's a loop so you should technically be able to loop through all the time steps in the annual hycom file and save 3-hourly files"
   ]
  },
  {
   "cell_type": "code",
   "execution_count": null,
   "id": "573939b4",
   "metadata": {},
   "outputs": [
    {
     "name": "stdout",
     "output_type": "stream",
     "text": [
      "-52572.0\n"
     ]
    }
   ],
   "source": [
    "# Read in the data\n",
    "hycom = xr.open_dataset(\"https://tds.hycom.org/thredds/dodsC/GLBv0.08/expt_53.X/data/1994\", decode_times=False)\n",
    "\n",
    "# Get the time variable values\n",
    "time = hycom.time.values\n",
    "\n",
    "# Set your spatial extent\n",
    "min_lat=-5\n",
    "max_lat=50\n",
    "min_lon=120\n",
    "max_lon=230\n",
    "\n",
    "for x in time[0:3]:\n",
    "    print(x)\n",
    "    \n",
    "    # Select the 10 and 20 meter deph layer and only variables water_u and water_v\n",
    "    hy = hycom.sel(depth=[10,20], time=x)[['water_u', 'water_v']]\n",
    "    # Change longitude from -180/180 to 0-360, then sort the data by lon to get a continuous axis\n",
    "    hy360 = hy.assign_coords({\"lon\": (hy.lon % 360)}).sortby(hy.lon)\n",
    "    \n",
    "    # Subset the data spatially\n",
    "    hy360_sub = hy360.sel(lat=slice(min_lat,max_lat), lon=slice(min_lon,max_lon))\n",
    "    \n",
    "    # Save to file\n",
    "    hy360_sub.to_netcdf(path=f'/Users/jwren/Desktop/HYCOM_py_test_{x}.nc')\n",
    "\n",
    "    "
   ]
  }
 ],
 "metadata": {
  "kernelspec": {
   "display_name": "Python 3 (ipykernel)",
   "language": "python",
   "name": "python3"
  },
  "language_info": {
   "codemirror_mode": {
    "name": "ipython",
    "version": 3
   },
   "file_extension": ".py",
   "mimetype": "text/x-python",
   "name": "python",
   "nbconvert_exporter": "python",
   "pygments_lexer": "ipython3",
   "version": "3.9.13"
  }
 },
 "nbformat": 4,
 "nbformat_minor": 5
}
